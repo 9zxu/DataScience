{
  "nbformat": 4,
  "nbformat_minor": 0,
  "metadata": {
    "colab": {
      "provenance": [],
      "authorship_tag": "ABX9TyMVRIyD8maM2D9OVO9rhH9g",
      "include_colab_link": true
    },
    "kernelspec": {
      "name": "python3",
      "display_name": "Python 3"
    },
    "language_info": {
      "name": "python"
    }
  },
  "cells": [
    {
      "cell_type": "markdown",
      "metadata": {
        "id": "view-in-github",
        "colab_type": "text"
      },
      "source": [
        "<a href=\"https://colab.research.google.com/github/9zxu/Analysis_Obesity/blob/main/ObesityDataSet.ipynb\" target=\"_parent\"><img src=\"https://colab.research.google.com/assets/colab-badge.svg\" alt=\"Open In Colab\"/></a>"
      ]
    },
    {
      "cell_type": "markdown",
      "source": [
        "# 取得資料資訊、檢查缺失值、LabelEncoder、相關係數熱圖"
      ],
      "metadata": {
        "id": "PwOysqjvq6W8"
      }
    },
    {
      "cell_type": "markdown",
      "source": [
        "載入套件"
      ],
      "metadata": {
        "id": "RvqbhJninnEZ"
      }
    },
    {
      "cell_type": "code",
      "source": [
        "import pandas as pd\n",
        "import numpy as np\n",
        "import math\n",
        "\n",
        "import matplotlib as mpl\n",
        "import matplotlib.pyplot as plt\n",
        "import seaborn as sns\n",
        "#np.random.seed()"
      ],
      "metadata": {
        "id": "eReCeNAUnXAm"
      },
      "execution_count": null,
      "outputs": []
    },
    {
      "cell_type": "markdown",
      "source": [
        "載入資料"
      ],
      "metadata": {
        "id": "IKP1ePKDnr-s"
      }
    },
    {
      "cell_type": "code",
      "source": [
        "#from google.colab import drive\n",
        "#drive.mount('/content/drive') # 此處需要登入google帳號\n",
        "#df = pd.read_csv(\"/content/drive/MyDrive/obesity/ObesityDataSet.csv\",encoding=\"big5\" ) #讀取繁體中文字使用big5內碼\n",
        "df = pd.read_csv(\"ObesityDataSet.csv\",encoding = \"big5\" )\n",
        "df"
      ],
      "metadata": {
        "colab": {
          "base_uri": "https://localhost:8080/",
          "height": 520
        },
        "id": "oCV6UsIdn1Ip",
        "outputId": "01bbe218-9f3d-4ea5-80e1-6bb748da7f78"
      },
      "execution_count": null,
      "outputs": [
        {
          "output_type": "execute_result",
          "data": {
            "text/plain": [
              "      Gender        Age      Tall      Weight 家族過重史 頻繁地攝取高熱量食物  蔬菜攝取頻率  主餐次數  \\\n",
              "0     Female  21.000000  1.620000   64.000000   yes         no     2.0   3.0   \n",
              "1     Female  21.000000  1.520000   56.000000   yes         no     3.0   3.0   \n",
              "2       Male  23.000000  1.800000   77.000000   yes         no     2.0   3.0   \n",
              "3       Male  27.000000  1.800000   87.000000    no         no     3.0   3.0   \n",
              "4       Male  22.000000  1.780000   89.800000    no         no     2.0   1.0   \n",
              "...      ...        ...       ...         ...   ...        ...     ...   ...   \n",
              "2106  Female  20.976842  1.710730  131.408528   yes        yes     3.0   3.0   \n",
              "2107  Female  21.982942  1.748584  133.742943   yes        yes     3.0   3.0   \n",
              "2108  Female  22.524036  1.752206  133.689352   yes        yes     3.0   3.0   \n",
              "2109  Female  24.361936  1.739450  133.346641   yes        yes     3.0   3.0   \n",
              "2110  Female  23.664709  1.738836  133.472641   yes        yes     3.0   3.0   \n",
              "\n",
              "     兩餐之間的食物攝取量 是否抽菸    每日水攝取量 熱量控制    身體活動頻率  使用電子設備的時間        多常喝酒  \\\n",
              "0     Sometimes   no  2.000000   no  0.000000   1.000000          no   \n",
              "1     Sometimes  yes  3.000000  yes  3.000000   0.000000   Sometimes   \n",
              "2     Sometimes   no  2.000000   no  2.000000   1.000000  Frequently   \n",
              "3     Sometimes   no  2.000000   no  2.000000   0.000000  Frequently   \n",
              "4     Sometimes   no  2.000000   no  0.000000   0.000000   Sometimes   \n",
              "...         ...  ...       ...  ...       ...        ...         ...   \n",
              "2106  Sometimes   no  1.728139   no  1.676269   0.906247   Sometimes   \n",
              "2107  Sometimes   no  2.005130   no  1.341390   0.599270   Sometimes   \n",
              "2108  Sometimes   no  2.054193   no  1.414209   0.646288   Sometimes   \n",
              "2109  Sometimes   no  2.852339   no  1.139107   0.586035   Sometimes   \n",
              "2110  Sometimes   no  2.863513   no  1.026452   0.714137   Sometimes   \n",
              "\n",
              "                    使用的交通工具                 體重等級  Unnamed: 17  \n",
              "0     Public_Transportation        Normal_Weight          NaN  \n",
              "1     Public_Transportation        Normal_Weight          NaN  \n",
              "2     Public_Transportation        Normal_Weight          NaN  \n",
              "3                   Walking   Overweight_Level_I          NaN  \n",
              "4     Public_Transportation  Overweight_Level_II          NaN  \n",
              "...                     ...                  ...          ...  \n",
              "2106  Public_Transportation     Obesity_Type_III          NaN  \n",
              "2107  Public_Transportation     Obesity_Type_III          NaN  \n",
              "2108  Public_Transportation     Obesity_Type_III          NaN  \n",
              "2109  Public_Transportation     Obesity_Type_III          NaN  \n",
              "2110  Public_Transportation     Obesity_Type_III          NaN  \n",
              "\n",
              "[2111 rows x 18 columns]"
            ],
            "text/html": [
              "\n",
              "  <div id=\"df-015950b7-eaac-4f55-b227-01511a00199d\">\n",
              "    <div class=\"colab-df-container\">\n",
              "      <div>\n",
              "<style scoped>\n",
              "    .dataframe tbody tr th:only-of-type {\n",
              "        vertical-align: middle;\n",
              "    }\n",
              "\n",
              "    .dataframe tbody tr th {\n",
              "        vertical-align: top;\n",
              "    }\n",
              "\n",
              "    .dataframe thead th {\n",
              "        text-align: right;\n",
              "    }\n",
              "</style>\n",
              "<table border=\"1\" class=\"dataframe\">\n",
              "  <thead>\n",
              "    <tr style=\"text-align: right;\">\n",
              "      <th></th>\n",
              "      <th>Gender</th>\n",
              "      <th>Age</th>\n",
              "      <th>Tall</th>\n",
              "      <th>Weight</th>\n",
              "      <th>家族過重史</th>\n",
              "      <th>頻繁地攝取高熱量食物</th>\n",
              "      <th>蔬菜攝取頻率</th>\n",
              "      <th>主餐次數</th>\n",
              "      <th>兩餐之間的食物攝取量</th>\n",
              "      <th>是否抽菸</th>\n",
              "      <th>每日水攝取量</th>\n",
              "      <th>熱量控制</th>\n",
              "      <th>身體活動頻率</th>\n",
              "      <th>使用電子設備的時間</th>\n",
              "      <th>多常喝酒</th>\n",
              "      <th>使用的交通工具</th>\n",
              "      <th>體重等級</th>\n",
              "      <th>Unnamed: 17</th>\n",
              "    </tr>\n",
              "  </thead>\n",
              "  <tbody>\n",
              "    <tr>\n",
              "      <th>0</th>\n",
              "      <td>Female</td>\n",
              "      <td>21.000000</td>\n",
              "      <td>1.620000</td>\n",
              "      <td>64.000000</td>\n",
              "      <td>yes</td>\n",
              "      <td>no</td>\n",
              "      <td>2.0</td>\n",
              "      <td>3.0</td>\n",
              "      <td>Sometimes</td>\n",
              "      <td>no</td>\n",
              "      <td>2.000000</td>\n",
              "      <td>no</td>\n",
              "      <td>0.000000</td>\n",
              "      <td>1.000000</td>\n",
              "      <td>no</td>\n",
              "      <td>Public_Transportation</td>\n",
              "      <td>Normal_Weight</td>\n",
              "      <td>NaN</td>\n",
              "    </tr>\n",
              "    <tr>\n",
              "      <th>1</th>\n",
              "      <td>Female</td>\n",
              "      <td>21.000000</td>\n",
              "      <td>1.520000</td>\n",
              "      <td>56.000000</td>\n",
              "      <td>yes</td>\n",
              "      <td>no</td>\n",
              "      <td>3.0</td>\n",
              "      <td>3.0</td>\n",
              "      <td>Sometimes</td>\n",
              "      <td>yes</td>\n",
              "      <td>3.000000</td>\n",
              "      <td>yes</td>\n",
              "      <td>3.000000</td>\n",
              "      <td>0.000000</td>\n",
              "      <td>Sometimes</td>\n",
              "      <td>Public_Transportation</td>\n",
              "      <td>Normal_Weight</td>\n",
              "      <td>NaN</td>\n",
              "    </tr>\n",
              "    <tr>\n",
              "      <th>2</th>\n",
              "      <td>Male</td>\n",
              "      <td>23.000000</td>\n",
              "      <td>1.800000</td>\n",
              "      <td>77.000000</td>\n",
              "      <td>yes</td>\n",
              "      <td>no</td>\n",
              "      <td>2.0</td>\n",
              "      <td>3.0</td>\n",
              "      <td>Sometimes</td>\n",
              "      <td>no</td>\n",
              "      <td>2.000000</td>\n",
              "      <td>no</td>\n",
              "      <td>2.000000</td>\n",
              "      <td>1.000000</td>\n",
              "      <td>Frequently</td>\n",
              "      <td>Public_Transportation</td>\n",
              "      <td>Normal_Weight</td>\n",
              "      <td>NaN</td>\n",
              "    </tr>\n",
              "    <tr>\n",
              "      <th>3</th>\n",
              "      <td>Male</td>\n",
              "      <td>27.000000</td>\n",
              "      <td>1.800000</td>\n",
              "      <td>87.000000</td>\n",
              "      <td>no</td>\n",
              "      <td>no</td>\n",
              "      <td>3.0</td>\n",
              "      <td>3.0</td>\n",
              "      <td>Sometimes</td>\n",
              "      <td>no</td>\n",
              "      <td>2.000000</td>\n",
              "      <td>no</td>\n",
              "      <td>2.000000</td>\n",
              "      <td>0.000000</td>\n",
              "      <td>Frequently</td>\n",
              "      <td>Walking</td>\n",
              "      <td>Overweight_Level_I</td>\n",
              "      <td>NaN</td>\n",
              "    </tr>\n",
              "    <tr>\n",
              "      <th>4</th>\n",
              "      <td>Male</td>\n",
              "      <td>22.000000</td>\n",
              "      <td>1.780000</td>\n",
              "      <td>89.800000</td>\n",
              "      <td>no</td>\n",
              "      <td>no</td>\n",
              "      <td>2.0</td>\n",
              "      <td>1.0</td>\n",
              "      <td>Sometimes</td>\n",
              "      <td>no</td>\n",
              "      <td>2.000000</td>\n",
              "      <td>no</td>\n",
              "      <td>0.000000</td>\n",
              "      <td>0.000000</td>\n",
              "      <td>Sometimes</td>\n",
              "      <td>Public_Transportation</td>\n",
              "      <td>Overweight_Level_II</td>\n",
              "      <td>NaN</td>\n",
              "    </tr>\n",
              "    <tr>\n",
              "      <th>...</th>\n",
              "      <td>...</td>\n",
              "      <td>...</td>\n",
              "      <td>...</td>\n",
              "      <td>...</td>\n",
              "      <td>...</td>\n",
              "      <td>...</td>\n",
              "      <td>...</td>\n",
              "      <td>...</td>\n",
              "      <td>...</td>\n",
              "      <td>...</td>\n",
              "      <td>...</td>\n",
              "      <td>...</td>\n",
              "      <td>...</td>\n",
              "      <td>...</td>\n",
              "      <td>...</td>\n",
              "      <td>...</td>\n",
              "      <td>...</td>\n",
              "      <td>...</td>\n",
              "    </tr>\n",
              "    <tr>\n",
              "      <th>2106</th>\n",
              "      <td>Female</td>\n",
              "      <td>20.976842</td>\n",
              "      <td>1.710730</td>\n",
              "      <td>131.408528</td>\n",
              "      <td>yes</td>\n",
              "      <td>yes</td>\n",
              "      <td>3.0</td>\n",
              "      <td>3.0</td>\n",
              "      <td>Sometimes</td>\n",
              "      <td>no</td>\n",
              "      <td>1.728139</td>\n",
              "      <td>no</td>\n",
              "      <td>1.676269</td>\n",
              "      <td>0.906247</td>\n",
              "      <td>Sometimes</td>\n",
              "      <td>Public_Transportation</td>\n",
              "      <td>Obesity_Type_III</td>\n",
              "      <td>NaN</td>\n",
              "    </tr>\n",
              "    <tr>\n",
              "      <th>2107</th>\n",
              "      <td>Female</td>\n",
              "      <td>21.982942</td>\n",
              "      <td>1.748584</td>\n",
              "      <td>133.742943</td>\n",
              "      <td>yes</td>\n",
              "      <td>yes</td>\n",
              "      <td>3.0</td>\n",
              "      <td>3.0</td>\n",
              "      <td>Sometimes</td>\n",
              "      <td>no</td>\n",
              "      <td>2.005130</td>\n",
              "      <td>no</td>\n",
              "      <td>1.341390</td>\n",
              "      <td>0.599270</td>\n",
              "      <td>Sometimes</td>\n",
              "      <td>Public_Transportation</td>\n",
              "      <td>Obesity_Type_III</td>\n",
              "      <td>NaN</td>\n",
              "    </tr>\n",
              "    <tr>\n",
              "      <th>2108</th>\n",
              "      <td>Female</td>\n",
              "      <td>22.524036</td>\n",
              "      <td>1.752206</td>\n",
              "      <td>133.689352</td>\n",
              "      <td>yes</td>\n",
              "      <td>yes</td>\n",
              "      <td>3.0</td>\n",
              "      <td>3.0</td>\n",
              "      <td>Sometimes</td>\n",
              "      <td>no</td>\n",
              "      <td>2.054193</td>\n",
              "      <td>no</td>\n",
              "      <td>1.414209</td>\n",
              "      <td>0.646288</td>\n",
              "      <td>Sometimes</td>\n",
              "      <td>Public_Transportation</td>\n",
              "      <td>Obesity_Type_III</td>\n",
              "      <td>NaN</td>\n",
              "    </tr>\n",
              "    <tr>\n",
              "      <th>2109</th>\n",
              "      <td>Female</td>\n",
              "      <td>24.361936</td>\n",
              "      <td>1.739450</td>\n",
              "      <td>133.346641</td>\n",
              "      <td>yes</td>\n",
              "      <td>yes</td>\n",
              "      <td>3.0</td>\n",
              "      <td>3.0</td>\n",
              "      <td>Sometimes</td>\n",
              "      <td>no</td>\n",
              "      <td>2.852339</td>\n",
              "      <td>no</td>\n",
              "      <td>1.139107</td>\n",
              "      <td>0.586035</td>\n",
              "      <td>Sometimes</td>\n",
              "      <td>Public_Transportation</td>\n",
              "      <td>Obesity_Type_III</td>\n",
              "      <td>NaN</td>\n",
              "    </tr>\n",
              "    <tr>\n",
              "      <th>2110</th>\n",
              "      <td>Female</td>\n",
              "      <td>23.664709</td>\n",
              "      <td>1.738836</td>\n",
              "      <td>133.472641</td>\n",
              "      <td>yes</td>\n",
              "      <td>yes</td>\n",
              "      <td>3.0</td>\n",
              "      <td>3.0</td>\n",
              "      <td>Sometimes</td>\n",
              "      <td>no</td>\n",
              "      <td>2.863513</td>\n",
              "      <td>no</td>\n",
              "      <td>1.026452</td>\n",
              "      <td>0.714137</td>\n",
              "      <td>Sometimes</td>\n",
              "      <td>Public_Transportation</td>\n",
              "      <td>Obesity_Type_III</td>\n",
              "      <td>NaN</td>\n",
              "    </tr>\n",
              "  </tbody>\n",
              "</table>\n",
              "<p>2111 rows × 18 columns</p>\n",
              "</div>\n",
              "      <button class=\"colab-df-convert\" onclick=\"convertToInteractive('df-015950b7-eaac-4f55-b227-01511a00199d')\"\n",
              "              title=\"Convert this dataframe to an interactive table.\"\n",
              "              style=\"display:none;\">\n",
              "        \n",
              "  <svg xmlns=\"http://www.w3.org/2000/svg\" height=\"24px\"viewBox=\"0 0 24 24\"\n",
              "       width=\"24px\">\n",
              "    <path d=\"M0 0h24v24H0V0z\" fill=\"none\"/>\n",
              "    <path d=\"M18.56 5.44l.94 2.06.94-2.06 2.06-.94-2.06-.94-.94-2.06-.94 2.06-2.06.94zm-11 1L8.5 8.5l.94-2.06 2.06-.94-2.06-.94L8.5 2.5l-.94 2.06-2.06.94zm10 10l.94 2.06.94-2.06 2.06-.94-2.06-.94-.94-2.06-.94 2.06-2.06.94z\"/><path d=\"M17.41 7.96l-1.37-1.37c-.4-.4-.92-.59-1.43-.59-.52 0-1.04.2-1.43.59L10.3 9.45l-7.72 7.72c-.78.78-.78 2.05 0 2.83L4 21.41c.39.39.9.59 1.41.59.51 0 1.02-.2 1.41-.59l7.78-7.78 2.81-2.81c.8-.78.8-2.07 0-2.86zM5.41 20L4 18.59l7.72-7.72 1.47 1.35L5.41 20z\"/>\n",
              "  </svg>\n",
              "      </button>\n",
              "      \n",
              "  <style>\n",
              "    .colab-df-container {\n",
              "      display:flex;\n",
              "      flex-wrap:wrap;\n",
              "      gap: 12px;\n",
              "    }\n",
              "\n",
              "    .colab-df-convert {\n",
              "      background-color: #E8F0FE;\n",
              "      border: none;\n",
              "      border-radius: 50%;\n",
              "      cursor: pointer;\n",
              "      display: none;\n",
              "      fill: #1967D2;\n",
              "      height: 32px;\n",
              "      padding: 0 0 0 0;\n",
              "      width: 32px;\n",
              "    }\n",
              "\n",
              "    .colab-df-convert:hover {\n",
              "      background-color: #E2EBFA;\n",
              "      box-shadow: 0px 1px 2px rgba(60, 64, 67, 0.3), 0px 1px 3px 1px rgba(60, 64, 67, 0.15);\n",
              "      fill: #174EA6;\n",
              "    }\n",
              "\n",
              "    [theme=dark] .colab-df-convert {\n",
              "      background-color: #3B4455;\n",
              "      fill: #D2E3FC;\n",
              "    }\n",
              "\n",
              "    [theme=dark] .colab-df-convert:hover {\n",
              "      background-color: #434B5C;\n",
              "      box-shadow: 0px 1px 3px 1px rgba(0, 0, 0, 0.15);\n",
              "      filter: drop-shadow(0px 1px 2px rgba(0, 0, 0, 0.3));\n",
              "      fill: #FFFFFF;\n",
              "    }\n",
              "  </style>\n",
              "\n",
              "      <script>\n",
              "        const buttonEl =\n",
              "          document.querySelector('#df-015950b7-eaac-4f55-b227-01511a00199d button.colab-df-convert');\n",
              "        buttonEl.style.display =\n",
              "          google.colab.kernel.accessAllowed ? 'block' : 'none';\n",
              "\n",
              "        async function convertToInteractive(key) {\n",
              "          const element = document.querySelector('#df-015950b7-eaac-4f55-b227-01511a00199d');\n",
              "          const dataTable =\n",
              "            await google.colab.kernel.invokeFunction('convertToInteractive',\n",
              "                                                     [key], {});\n",
              "          if (!dataTable) return;\n",
              "\n",
              "          const docLinkHtml = 'Like what you see? Visit the ' +\n",
              "            '<a target=\"_blank\" href=https://colab.research.google.com/notebooks/data_table.ipynb>data table notebook</a>'\n",
              "            + ' to learn more about interactive tables.';\n",
              "          element.innerHTML = '';\n",
              "          dataTable['output_type'] = 'display_data';\n",
              "          await google.colab.output.renderOutput(dataTable, element);\n",
              "          const docLink = document.createElement('div');\n",
              "          docLink.innerHTML = docLinkHtml;\n",
              "          element.appendChild(docLink);\n",
              "        }\n",
              "      </script>\n",
              "    </div>\n",
              "  </div>\n",
              "  "
            ]
          },
          "metadata": {},
          "execution_count": 91
        }
      ]
    },
    {
      "cell_type": "markdown",
      "source": [
        "## 取得資料資訊"
      ],
      "metadata": {
        "id": "JAfonjuEoGD4"
      }
    },
    {
      "cell_type": "code",
      "source": [
        "df.shape #(rows,columns)"
      ],
      "metadata": {
        "colab": {
          "base_uri": "https://localhost:8080/"
        },
        "id": "_r0YtBd0oB4U",
        "outputId": "16926abd-1c72-4ac9-a217-c85cadb19fba"
      },
      "execution_count": null,
      "outputs": [
        {
          "output_type": "execute_result",
          "data": {
            "text/plain": [
              "(2111, 18)"
            ]
          },
          "metadata": {},
          "execution_count": 92
        }
      ]
    },
    {
      "cell_type": "code",
      "source": [
        "df.describe()"
      ],
      "metadata": {
        "colab": {
          "base_uri": "https://localhost:8080/",
          "height": 300
        },
        "id": "ZU5iVvFRp5ao",
        "outputId": "1a52eea7-ca46-44bf-aa15-1653f567f27f"
      },
      "execution_count": null,
      "outputs": [
        {
          "output_type": "execute_result",
          "data": {
            "text/plain": [
              "               Age         Tall       Weight       蔬菜攝取頻率         主餐次數  \\\n",
              "count  2111.000000  2111.000000  2111.000000  2111.000000  2111.000000   \n",
              "mean     24.312600     1.701677    86.586058     2.419043     2.685628   \n",
              "std       6.345968     0.093305    26.191172     0.533927     0.778039   \n",
              "min      14.000000     1.450000    39.000000     1.000000     1.000000   \n",
              "25%      19.947192     1.630000    65.473343     2.000000     2.658738   \n",
              "50%      22.777890     1.700499    83.000000     2.385502     3.000000   \n",
              "75%      26.000000     1.768464   107.430682     3.000000     3.000000   \n",
              "max      61.000000     1.980000   173.000000     3.000000     4.000000   \n",
              "\n",
              "            每日水攝取量       身體活動頻率    使用電子設備的時間  Unnamed: 17  \n",
              "count  2111.000000  2111.000000  2111.000000          0.0  \n",
              "mean      2.008011     1.010298     0.657866          NaN  \n",
              "std       0.612953     0.850592     0.608927          NaN  \n",
              "min       1.000000     0.000000     0.000000          NaN  \n",
              "25%       1.584812     0.124505     0.000000          NaN  \n",
              "50%       2.000000     1.000000     0.625350          NaN  \n",
              "75%       2.477420     1.666678     1.000000          NaN  \n",
              "max       3.000000     3.000000     2.000000          NaN  "
            ],
            "text/html": [
              "\n",
              "  <div id=\"df-06eebcbf-0a55-4433-abf2-3ccb112ea99a\">\n",
              "    <div class=\"colab-df-container\">\n",
              "      <div>\n",
              "<style scoped>\n",
              "    .dataframe tbody tr th:only-of-type {\n",
              "        vertical-align: middle;\n",
              "    }\n",
              "\n",
              "    .dataframe tbody tr th {\n",
              "        vertical-align: top;\n",
              "    }\n",
              "\n",
              "    .dataframe thead th {\n",
              "        text-align: right;\n",
              "    }\n",
              "</style>\n",
              "<table border=\"1\" class=\"dataframe\">\n",
              "  <thead>\n",
              "    <tr style=\"text-align: right;\">\n",
              "      <th></th>\n",
              "      <th>Age</th>\n",
              "      <th>Tall</th>\n",
              "      <th>Weight</th>\n",
              "      <th>蔬菜攝取頻率</th>\n",
              "      <th>主餐次數</th>\n",
              "      <th>每日水攝取量</th>\n",
              "      <th>身體活動頻率</th>\n",
              "      <th>使用電子設備的時間</th>\n",
              "      <th>Unnamed: 17</th>\n",
              "    </tr>\n",
              "  </thead>\n",
              "  <tbody>\n",
              "    <tr>\n",
              "      <th>count</th>\n",
              "      <td>2111.000000</td>\n",
              "      <td>2111.000000</td>\n",
              "      <td>2111.000000</td>\n",
              "      <td>2111.000000</td>\n",
              "      <td>2111.000000</td>\n",
              "      <td>2111.000000</td>\n",
              "      <td>2111.000000</td>\n",
              "      <td>2111.000000</td>\n",
              "      <td>0.0</td>\n",
              "    </tr>\n",
              "    <tr>\n",
              "      <th>mean</th>\n",
              "      <td>24.312600</td>\n",
              "      <td>1.701677</td>\n",
              "      <td>86.586058</td>\n",
              "      <td>2.419043</td>\n",
              "      <td>2.685628</td>\n",
              "      <td>2.008011</td>\n",
              "      <td>1.010298</td>\n",
              "      <td>0.657866</td>\n",
              "      <td>NaN</td>\n",
              "    </tr>\n",
              "    <tr>\n",
              "      <th>std</th>\n",
              "      <td>6.345968</td>\n",
              "      <td>0.093305</td>\n",
              "      <td>26.191172</td>\n",
              "      <td>0.533927</td>\n",
              "      <td>0.778039</td>\n",
              "      <td>0.612953</td>\n",
              "      <td>0.850592</td>\n",
              "      <td>0.608927</td>\n",
              "      <td>NaN</td>\n",
              "    </tr>\n",
              "    <tr>\n",
              "      <th>min</th>\n",
              "      <td>14.000000</td>\n",
              "      <td>1.450000</td>\n",
              "      <td>39.000000</td>\n",
              "      <td>1.000000</td>\n",
              "      <td>1.000000</td>\n",
              "      <td>1.000000</td>\n",
              "      <td>0.000000</td>\n",
              "      <td>0.000000</td>\n",
              "      <td>NaN</td>\n",
              "    </tr>\n",
              "    <tr>\n",
              "      <th>25%</th>\n",
              "      <td>19.947192</td>\n",
              "      <td>1.630000</td>\n",
              "      <td>65.473343</td>\n",
              "      <td>2.000000</td>\n",
              "      <td>2.658738</td>\n",
              "      <td>1.584812</td>\n",
              "      <td>0.124505</td>\n",
              "      <td>0.000000</td>\n",
              "      <td>NaN</td>\n",
              "    </tr>\n",
              "    <tr>\n",
              "      <th>50%</th>\n",
              "      <td>22.777890</td>\n",
              "      <td>1.700499</td>\n",
              "      <td>83.000000</td>\n",
              "      <td>2.385502</td>\n",
              "      <td>3.000000</td>\n",
              "      <td>2.000000</td>\n",
              "      <td>1.000000</td>\n",
              "      <td>0.625350</td>\n",
              "      <td>NaN</td>\n",
              "    </tr>\n",
              "    <tr>\n",
              "      <th>75%</th>\n",
              "      <td>26.000000</td>\n",
              "      <td>1.768464</td>\n",
              "      <td>107.430682</td>\n",
              "      <td>3.000000</td>\n",
              "      <td>3.000000</td>\n",
              "      <td>2.477420</td>\n",
              "      <td>1.666678</td>\n",
              "      <td>1.000000</td>\n",
              "      <td>NaN</td>\n",
              "    </tr>\n",
              "    <tr>\n",
              "      <th>max</th>\n",
              "      <td>61.000000</td>\n",
              "      <td>1.980000</td>\n",
              "      <td>173.000000</td>\n",
              "      <td>3.000000</td>\n",
              "      <td>4.000000</td>\n",
              "      <td>3.000000</td>\n",
              "      <td>3.000000</td>\n",
              "      <td>2.000000</td>\n",
              "      <td>NaN</td>\n",
              "    </tr>\n",
              "  </tbody>\n",
              "</table>\n",
              "</div>\n",
              "      <button class=\"colab-df-convert\" onclick=\"convertToInteractive('df-06eebcbf-0a55-4433-abf2-3ccb112ea99a')\"\n",
              "              title=\"Convert this dataframe to an interactive table.\"\n",
              "              style=\"display:none;\">\n",
              "        \n",
              "  <svg xmlns=\"http://www.w3.org/2000/svg\" height=\"24px\"viewBox=\"0 0 24 24\"\n",
              "       width=\"24px\">\n",
              "    <path d=\"M0 0h24v24H0V0z\" fill=\"none\"/>\n",
              "    <path d=\"M18.56 5.44l.94 2.06.94-2.06 2.06-.94-2.06-.94-.94-2.06-.94 2.06-2.06.94zm-11 1L8.5 8.5l.94-2.06 2.06-.94-2.06-.94L8.5 2.5l-.94 2.06-2.06.94zm10 10l.94 2.06.94-2.06 2.06-.94-2.06-.94-.94-2.06-.94 2.06-2.06.94z\"/><path d=\"M17.41 7.96l-1.37-1.37c-.4-.4-.92-.59-1.43-.59-.52 0-1.04.2-1.43.59L10.3 9.45l-7.72 7.72c-.78.78-.78 2.05 0 2.83L4 21.41c.39.39.9.59 1.41.59.51 0 1.02-.2 1.41-.59l7.78-7.78 2.81-2.81c.8-.78.8-2.07 0-2.86zM5.41 20L4 18.59l7.72-7.72 1.47 1.35L5.41 20z\"/>\n",
              "  </svg>\n",
              "      </button>\n",
              "      \n",
              "  <style>\n",
              "    .colab-df-container {\n",
              "      display:flex;\n",
              "      flex-wrap:wrap;\n",
              "      gap: 12px;\n",
              "    }\n",
              "\n",
              "    .colab-df-convert {\n",
              "      background-color: #E8F0FE;\n",
              "      border: none;\n",
              "      border-radius: 50%;\n",
              "      cursor: pointer;\n",
              "      display: none;\n",
              "      fill: #1967D2;\n",
              "      height: 32px;\n",
              "      padding: 0 0 0 0;\n",
              "      width: 32px;\n",
              "    }\n",
              "\n",
              "    .colab-df-convert:hover {\n",
              "      background-color: #E2EBFA;\n",
              "      box-shadow: 0px 1px 2px rgba(60, 64, 67, 0.3), 0px 1px 3px 1px rgba(60, 64, 67, 0.15);\n",
              "      fill: #174EA6;\n",
              "    }\n",
              "\n",
              "    [theme=dark] .colab-df-convert {\n",
              "      background-color: #3B4455;\n",
              "      fill: #D2E3FC;\n",
              "    }\n",
              "\n",
              "    [theme=dark] .colab-df-convert:hover {\n",
              "      background-color: #434B5C;\n",
              "      box-shadow: 0px 1px 3px 1px rgba(0, 0, 0, 0.15);\n",
              "      filter: drop-shadow(0px 1px 2px rgba(0, 0, 0, 0.3));\n",
              "      fill: #FFFFFF;\n",
              "    }\n",
              "  </style>\n",
              "\n",
              "      <script>\n",
              "        const buttonEl =\n",
              "          document.querySelector('#df-06eebcbf-0a55-4433-abf2-3ccb112ea99a button.colab-df-convert');\n",
              "        buttonEl.style.display =\n",
              "          google.colab.kernel.accessAllowed ? 'block' : 'none';\n",
              "\n",
              "        async function convertToInteractive(key) {\n",
              "          const element = document.querySelector('#df-06eebcbf-0a55-4433-abf2-3ccb112ea99a');\n",
              "          const dataTable =\n",
              "            await google.colab.kernel.invokeFunction('convertToInteractive',\n",
              "                                                     [key], {});\n",
              "          if (!dataTable) return;\n",
              "\n",
              "          const docLinkHtml = 'Like what you see? Visit the ' +\n",
              "            '<a target=\"_blank\" href=https://colab.research.google.com/notebooks/data_table.ipynb>data table notebook</a>'\n",
              "            + ' to learn more about interactive tables.';\n",
              "          element.innerHTML = '';\n",
              "          dataTable['output_type'] = 'display_data';\n",
              "          await google.colab.output.renderOutput(dataTable, element);\n",
              "          const docLink = document.createElement('div');\n",
              "          docLink.innerHTML = docLinkHtml;\n",
              "          element.appendChild(docLink);\n",
              "        }\n",
              "      </script>\n",
              "    </div>\n",
              "  </div>\n",
              "  "
            ]
          },
          "metadata": {},
          "execution_count": 93
        }
      ]
    },
    {
      "cell_type": "markdown",
      "source": [
        "## 檢查缺失值"
      ],
      "metadata": {
        "id": "bXhsqh4CoWjV"
      }
    },
    {
      "cell_type": "markdown",
      "source": [
        "[Pandas DataFrame info() Option](https://www.w3schools.com/python/pandas/ref_df_info.asp)"
      ],
      "metadata": {
        "id": "nm7UQokcwjXT"
      }
    },
    {
      "cell_type": "code",
      "source": [
        "df.info()"
      ],
      "metadata": {
        "colab": {
          "base_uri": "https://localhost:8080/"
        },
        "id": "OzBS2Q-ZoQUp",
        "outputId": "46f76850-5507-407c-f2a0-824f3842fe17"
      },
      "execution_count": null,
      "outputs": [
        {
          "output_type": "stream",
          "name": "stdout",
          "text": [
            "<class 'pandas.core.frame.DataFrame'>\n",
            "RangeIndex: 2111 entries, 0 to 2110\n",
            "Data columns (total 18 columns):\n",
            " #   Column       Non-Null Count  Dtype  \n",
            "---  ------       --------------  -----  \n",
            " 0   Gender       2111 non-null   object \n",
            " 1   Age          2111 non-null   float64\n",
            " 2   Tall         2111 non-null   float64\n",
            " 3   Weight       2111 non-null   float64\n",
            " 4   家族過重史        2111 non-null   object \n",
            " 5   頻繁地攝取高熱量食物   2111 non-null   object \n",
            " 6   蔬菜攝取頻率       2111 non-null   float64\n",
            " 7   主餐次數         2111 non-null   float64\n",
            " 8   兩餐之間的食物攝取量   2111 non-null   object \n",
            " 9   是否抽菸         2111 non-null   object \n",
            " 10  每日水攝取量       2111 non-null   float64\n",
            " 11  熱量控制         2111 non-null   object \n",
            " 12  身體活動頻率       2111 non-null   float64\n",
            " 13  使用電子設備的時間    2111 non-null   float64\n",
            " 14  多常喝酒         2111 non-null   object \n",
            " 15  使用的交通工具      2111 non-null   object \n",
            " 16  體重等級         2111 non-null   object \n",
            " 17  Unnamed: 17  0 non-null      float64\n",
            "dtypes: float64(9), object(9)\n",
            "memory usage: 297.0+ KB\n"
          ]
        }
      ]
    },
    {
      "cell_type": "code",
      "source": [
        "df.isnull().sum()"
      ],
      "metadata": {
        "colab": {
          "base_uri": "https://localhost:8080/"
        },
        "id": "TfGSnzXZoWFw",
        "outputId": "e51bc6bc-842f-471b-e230-1bdd6f3d1003"
      },
      "execution_count": null,
      "outputs": [
        {
          "output_type": "execute_result",
          "data": {
            "text/plain": [
              "Gender            0\n",
              "Age               0\n",
              "Tall              0\n",
              "Weight            0\n",
              "家族過重史             0\n",
              "頻繁地攝取高熱量食物        0\n",
              "蔬菜攝取頻率            0\n",
              "主餐次數              0\n",
              "兩餐之間的食物攝取量        0\n",
              "是否抽菸              0\n",
              "每日水攝取量            0\n",
              "熱量控制              0\n",
              "身體活動頻率            0\n",
              "使用電子設備的時間         0\n",
              "多常喝酒              0\n",
              "使用的交通工具           0\n",
              "體重等級              0\n",
              "Unnamed: 17    2111\n",
              "dtype: int64"
            ]
          },
          "metadata": {},
          "execution_count": 95
        }
      ]
    },
    {
      "cell_type": "markdown",
      "source": [
        "### 統計非數值欄位中各群組資料個數\n",
        "[Pandas value_counts & Pandas groupby & Pandas aggregate](https://www.learncodewithmike.com/2021/04/pandas-groupby-and-aggregate-method.html)"
      ],
      "metadata": {
        "id": "cJJqfoUcopcP"
      }
    },
    {
      "cell_type": "code",
      "source": [
        "df.value_counts('Gender')"
      ],
      "metadata": {
        "colab": {
          "base_uri": "https://localhost:8080/"
        },
        "id": "ofinKwwXotiJ",
        "outputId": "af1df5a0-ba96-4ddb-e251-3af6e11cc4d1"
      },
      "execution_count": null,
      "outputs": [
        {
          "output_type": "execute_result",
          "data": {
            "text/plain": [
              "Gender\n",
              "Male      1068\n",
              "Female    1043\n",
              "dtype: int64"
            ]
          },
          "metadata": {},
          "execution_count": 96
        }
      ]
    },
    {
      "cell_type": "code",
      "source": [
        "df.value_counts('家族過重史')"
      ],
      "metadata": {
        "colab": {
          "base_uri": "https://localhost:8080/"
        },
        "id": "IAdWrZjxo2M1",
        "outputId": "0737b4ac-0ca0-49c7-f7db-1352abcb0099"
      },
      "execution_count": null,
      "outputs": [
        {
          "output_type": "execute_result",
          "data": {
            "text/plain": [
              "家族過重史\n",
              "yes    1726\n",
              "no      385\n",
              "dtype: int64"
            ]
          },
          "metadata": {},
          "execution_count": 97
        }
      ]
    },
    {
      "cell_type": "code",
      "source": [
        "df.value_counts('頻繁地攝取高熱量食物')"
      ],
      "metadata": {
        "colab": {
          "base_uri": "https://localhost:8080/"
        },
        "id": "zW1ZU4X2o2GH",
        "outputId": "1702e58f-d83e-4f20-aa3d-e55f745e3de2"
      },
      "execution_count": null,
      "outputs": [
        {
          "output_type": "execute_result",
          "data": {
            "text/plain": [
              "頻繁地攝取高熱量食物\n",
              "yes    1866\n",
              "no      245\n",
              "dtype: int64"
            ]
          },
          "metadata": {},
          "execution_count": 98
        }
      ]
    },
    {
      "cell_type": "code",
      "source": [
        "df.value_counts('兩餐之間的食物攝取量')"
      ],
      "metadata": {
        "colab": {
          "base_uri": "https://localhost:8080/"
        },
        "id": "eDzzcA6Co2BY",
        "outputId": "27998266-24e1-482c-8859-4e20957510f6"
      },
      "execution_count": null,
      "outputs": [
        {
          "output_type": "execute_result",
          "data": {
            "text/plain": [
              "兩餐之間的食物攝取量\n",
              "Sometimes     1765\n",
              "Frequently     242\n",
              "Always          53\n",
              "no              51\n",
              "dtype: int64"
            ]
          },
          "metadata": {},
          "execution_count": 99
        }
      ]
    },
    {
      "cell_type": "code",
      "source": [
        "df.value_counts('是否抽菸')"
      ],
      "metadata": {
        "colab": {
          "base_uri": "https://localhost:8080/"
        },
        "id": "sryWXB_go6u9",
        "outputId": "44cceed1-496d-4692-b9ca-7092f7691843"
      },
      "execution_count": null,
      "outputs": [
        {
          "output_type": "execute_result",
          "data": {
            "text/plain": [
              "是否抽菸\n",
              "no     2067\n",
              "yes      44\n",
              "dtype: int64"
            ]
          },
          "metadata": {},
          "execution_count": 100
        }
      ]
    },
    {
      "cell_type": "code",
      "source": [
        "df.value_counts('熱量控制')"
      ],
      "metadata": {
        "colab": {
          "base_uri": "https://localhost:8080/"
        },
        "id": "WRs7NPp3o6s9",
        "outputId": "4427e4c5-a460-46dc-a37f-490917f88a20"
      },
      "execution_count": null,
      "outputs": [
        {
          "output_type": "execute_result",
          "data": {
            "text/plain": [
              "熱量控制\n",
              "no     2015\n",
              "yes      96\n",
              "dtype: int64"
            ]
          },
          "metadata": {},
          "execution_count": 101
        }
      ]
    },
    {
      "cell_type": "code",
      "source": [
        "df.value_counts('多常喝酒')"
      ],
      "metadata": {
        "colab": {
          "base_uri": "https://localhost:8080/"
        },
        "id": "6ZQ6eC7Qo_og",
        "outputId": "18495c56-ccda-4113-becf-a1ca32444a9b"
      },
      "execution_count": null,
      "outputs": [
        {
          "output_type": "execute_result",
          "data": {
            "text/plain": [
              "多常喝酒\n",
              "Sometimes     1401\n",
              "no             639\n",
              "Frequently      70\n",
              "Always           1\n",
              "dtype: int64"
            ]
          },
          "metadata": {},
          "execution_count": 102
        }
      ]
    },
    {
      "cell_type": "code",
      "source": [
        "df.value_counts('使用的交通工具')"
      ],
      "metadata": {
        "colab": {
          "base_uri": "https://localhost:8080/"
        },
        "id": "qc7jxjsAo_mq",
        "outputId": "5c97f319-ad0b-4818-b74c-b56f414b58ac"
      },
      "execution_count": null,
      "outputs": [
        {
          "output_type": "execute_result",
          "data": {
            "text/plain": [
              "使用的交通工具\n",
              "Public_Transportation    1580\n",
              "Automobile                457\n",
              "Walking                    56\n",
              "Motorbike                  11\n",
              "Bike                        7\n",
              "dtype: int64"
            ]
          },
          "metadata": {},
          "execution_count": 103
        }
      ]
    },
    {
      "cell_type": "code",
      "source": [
        "df.value_counts('體重等級')"
      ],
      "metadata": {
        "colab": {
          "base_uri": "https://localhost:8080/"
        },
        "id": "S6s6qU2spCup",
        "outputId": "a785c395-d6e8-4681-bc4b-39f31d744735"
      },
      "execution_count": null,
      "outputs": [
        {
          "output_type": "execute_result",
          "data": {
            "text/plain": [
              "體重等級\n",
              "Obesity_Type_I         351\n",
              "Obesity_Type_III       324\n",
              "Obesity_Type_II        297\n",
              "Overweight_Level_I     290\n",
              "Overweight_Level_II    290\n",
              "Normal_Weight          287\n",
              "Insufficient_Weight    272\n",
              "dtype: int64"
            ]
          },
          "metadata": {},
          "execution_count": 104
        }
      ]
    },
    {
      "cell_type": "markdown",
      "source": [
        "## LabelEncoder\n",
        ">將類別 (categorical)或是文字(text)的資料轉換成數字，而讓程式能夠更好的去理解及運算。\n",
        "\n",
        " [資料前處理 : Label encoding & One hot encoding](https://medium.com/@PatHuang/%E5%88%9D%E5%AD%B8python%E6%89%8B%E8%A8%98-3-%E8%B3%87%E6%96%99%E5%89%8D%E8%99%95%E7%90%86-label-encoding-one-hot-encoding-85c983d63f87)"
      ],
      "metadata": {
        "id": "6UrGderGpF-T"
      }
    },
    {
      "cell_type": "code",
      "source": [
        "from sklearn.preprocessing import LabelEncoder\n",
        "\n",
        "df_le=df\n",
        "labelencoder = LabelEncoder() "
      ],
      "metadata": {
        "id": "9zgHVIMgpNF0"
      },
      "execution_count": null,
      "outputs": []
    },
    {
      "cell_type": "code",
      "source": [
        "df_le['Gender']=labelencoder.fit_transform(df_le['Gender']) #fit擬合(計算出係數) #transform轉換(資料數值)\n",
        "df_le['F_H']=labelencoder.fit_transform(df_le['家族過重史'])\n",
        "df_le['H-cal_f']=labelencoder.fit_transform(df_le['頻繁地攝取高熱量食物'])\n",
        "df_le['Two_meal_con']=labelencoder.fit_transform(df_le['兩餐之間的食物攝取量'])\n",
        "df_le['Smoke']=labelencoder.fit_transform(df_le['是否抽菸'])\n",
        "df_le['Cal_mo']=labelencoder.fit_transform(df_le['熱量控制'])\n",
        "df_le['alcohol']=labelencoder.fit_transform(df_le['多常喝酒'])\n",
        "df_le['transport']=labelencoder.fit_transform(df_le['使用的交通工具'] )\n",
        "df_le['W_Lv']=labelencoder.fit_transform(df_le['體重等級'])"
      ],
      "metadata": {
        "id": "v9s2oq0opQtz"
      },
      "execution_count": null,
      "outputs": []
    },
    {
      "cell_type": "markdown",
      "source": [
        "將欄名稱改成英文（不易亂碼）"
      ],
      "metadata": {
        "id": "KpLUnunQpf-F"
      }
    },
    {
      "cell_type": "code",
      "source": [
        "df['Water']=df['每日水攝取量']\n",
        "df['FAF']=df['身體活動頻率']\n",
        "df['Tech_time']=df['使用電子設備的時間']\n",
        "df['Meal_times']=df['主餐次數']\n",
        "df['Veg']=df['蔬菜攝取頻率']"
      ],
      "metadata": {
        "id": "mBq2SzW9pgYo"
      },
      "execution_count": null,
      "outputs": []
    },
    {
      "cell_type": "markdown",
      "source": [
        "刪除原中文欄位\n",
        "\n",
        "[python pandas中 inplace 参数理解\n",
        "](https://blog.csdn.net/songyunli1111/article/details/82937954)"
      ],
      "metadata": {
        "id": "5qQr2Sl7vo5N"
      }
    },
    {
      "cell_type": "code",
      "source": [
        "df.drop(columns=[\"家族過重史\",\"頻繁地攝取高熱量食物\",\"蔬菜攝取頻率\",\"主餐次數\",\"兩餐之間的食物攝取量\",\"是否抽菸\",\"每日水攝取量\",\"熱量控制\",\"身體活動頻率\",\"使用電子設備的時間\",\"多常喝酒\",\"使用的交通工具\",\"體重等級\",\"Unnamed: 17\"], inplace = True)"
      ],
      "metadata": {
        "id": "ptzExXQfvtXt"
      },
      "execution_count": null,
      "outputs": []
    },
    {
      "cell_type": "code",
      "source": [
        "df_le"
      ],
      "metadata": {
        "colab": {
          "base_uri": "https://localhost:8080/",
          "height": 423
        },
        "id": "m7zgYi5gpnaZ",
        "outputId": "f604d424-fbae-4153-ca80-6973e2eb50e7"
      },
      "execution_count": null,
      "outputs": [
        {
          "output_type": "execute_result",
          "data": {
            "text/plain": [
              "      Gender        Age      Tall      Weight  F_H  H-cal_f  Two_meal_con  \\\n",
              "0          0  21.000000  1.620000   64.000000    1        0             2   \n",
              "1          0  21.000000  1.520000   56.000000    1        0             2   \n",
              "2          1  23.000000  1.800000   77.000000    1        0             2   \n",
              "3          1  27.000000  1.800000   87.000000    0        0             2   \n",
              "4          1  22.000000  1.780000   89.800000    0        0             2   \n",
              "...      ...        ...       ...         ...  ...      ...           ...   \n",
              "2106       0  20.976842  1.710730  131.408528    1        1             2   \n",
              "2107       0  21.982942  1.748584  133.742943    1        1             2   \n",
              "2108       0  22.524036  1.752206  133.689352    1        1             2   \n",
              "2109       0  24.361936  1.739450  133.346641    1        1             2   \n",
              "2110       0  23.664709  1.738836  133.472641    1        1             2   \n",
              "\n",
              "      Smoke  Cal_mo  alcohol  transport  W_Lv     Water       FAF  Tech_time  \\\n",
              "0         0       0        3          3     1  2.000000  0.000000   1.000000   \n",
              "1         1       1        2          3     1  3.000000  3.000000   0.000000   \n",
              "2         0       0        1          3     1  2.000000  2.000000   1.000000   \n",
              "3         0       0        1          4     5  2.000000  2.000000   0.000000   \n",
              "4         0       0        2          3     6  2.000000  0.000000   0.000000   \n",
              "...     ...     ...      ...        ...   ...       ...       ...        ...   \n",
              "2106      0       0        2          3     4  1.728139  1.676269   0.906247   \n",
              "2107      0       0        2          3     4  2.005130  1.341390   0.599270   \n",
              "2108      0       0        2          3     4  2.054193  1.414209   0.646288   \n",
              "2109      0       0        2          3     4  2.852339  1.139107   0.586035   \n",
              "2110      0       0        2          3     4  2.863513  1.026452   0.714137   \n",
              "\n",
              "      Meal_times  Veg  \n",
              "0            3.0  2.0  \n",
              "1            3.0  3.0  \n",
              "2            3.0  2.0  \n",
              "3            3.0  3.0  \n",
              "4            1.0  2.0  \n",
              "...          ...  ...  \n",
              "2106         3.0  3.0  \n",
              "2107         3.0  3.0  \n",
              "2108         3.0  3.0  \n",
              "2109         3.0  3.0  \n",
              "2110         3.0  3.0  \n",
              "\n",
              "[2111 rows x 17 columns]"
            ],
            "text/html": [
              "\n",
              "  <div id=\"df-4849d1b2-d794-4cbc-b50b-1702b01b742f\">\n",
              "    <div class=\"colab-df-container\">\n",
              "      <div>\n",
              "<style scoped>\n",
              "    .dataframe tbody tr th:only-of-type {\n",
              "        vertical-align: middle;\n",
              "    }\n",
              "\n",
              "    .dataframe tbody tr th {\n",
              "        vertical-align: top;\n",
              "    }\n",
              "\n",
              "    .dataframe thead th {\n",
              "        text-align: right;\n",
              "    }\n",
              "</style>\n",
              "<table border=\"1\" class=\"dataframe\">\n",
              "  <thead>\n",
              "    <tr style=\"text-align: right;\">\n",
              "      <th></th>\n",
              "      <th>Gender</th>\n",
              "      <th>Age</th>\n",
              "      <th>Tall</th>\n",
              "      <th>Weight</th>\n",
              "      <th>F_H</th>\n",
              "      <th>H-cal_f</th>\n",
              "      <th>Two_meal_con</th>\n",
              "      <th>Smoke</th>\n",
              "      <th>Cal_mo</th>\n",
              "      <th>alcohol</th>\n",
              "      <th>transport</th>\n",
              "      <th>W_Lv</th>\n",
              "      <th>Water</th>\n",
              "      <th>FAF</th>\n",
              "      <th>Tech_time</th>\n",
              "      <th>Meal_times</th>\n",
              "      <th>Veg</th>\n",
              "    </tr>\n",
              "  </thead>\n",
              "  <tbody>\n",
              "    <tr>\n",
              "      <th>0</th>\n",
              "      <td>0</td>\n",
              "      <td>21.000000</td>\n",
              "      <td>1.620000</td>\n",
              "      <td>64.000000</td>\n",
              "      <td>1</td>\n",
              "      <td>0</td>\n",
              "      <td>2</td>\n",
              "      <td>0</td>\n",
              "      <td>0</td>\n",
              "      <td>3</td>\n",
              "      <td>3</td>\n",
              "      <td>1</td>\n",
              "      <td>2.000000</td>\n",
              "      <td>0.000000</td>\n",
              "      <td>1.000000</td>\n",
              "      <td>3.0</td>\n",
              "      <td>2.0</td>\n",
              "    </tr>\n",
              "    <tr>\n",
              "      <th>1</th>\n",
              "      <td>0</td>\n",
              "      <td>21.000000</td>\n",
              "      <td>1.520000</td>\n",
              "      <td>56.000000</td>\n",
              "      <td>1</td>\n",
              "      <td>0</td>\n",
              "      <td>2</td>\n",
              "      <td>1</td>\n",
              "      <td>1</td>\n",
              "      <td>2</td>\n",
              "      <td>3</td>\n",
              "      <td>1</td>\n",
              "      <td>3.000000</td>\n",
              "      <td>3.000000</td>\n",
              "      <td>0.000000</td>\n",
              "      <td>3.0</td>\n",
              "      <td>3.0</td>\n",
              "    </tr>\n",
              "    <tr>\n",
              "      <th>2</th>\n",
              "      <td>1</td>\n",
              "      <td>23.000000</td>\n",
              "      <td>1.800000</td>\n",
              "      <td>77.000000</td>\n",
              "      <td>1</td>\n",
              "      <td>0</td>\n",
              "      <td>2</td>\n",
              "      <td>0</td>\n",
              "      <td>0</td>\n",
              "      <td>1</td>\n",
              "      <td>3</td>\n",
              "      <td>1</td>\n",
              "      <td>2.000000</td>\n",
              "      <td>2.000000</td>\n",
              "      <td>1.000000</td>\n",
              "      <td>3.0</td>\n",
              "      <td>2.0</td>\n",
              "    </tr>\n",
              "    <tr>\n",
              "      <th>3</th>\n",
              "      <td>1</td>\n",
              "      <td>27.000000</td>\n",
              "      <td>1.800000</td>\n",
              "      <td>87.000000</td>\n",
              "      <td>0</td>\n",
              "      <td>0</td>\n",
              "      <td>2</td>\n",
              "      <td>0</td>\n",
              "      <td>0</td>\n",
              "      <td>1</td>\n",
              "      <td>4</td>\n",
              "      <td>5</td>\n",
              "      <td>2.000000</td>\n",
              "      <td>2.000000</td>\n",
              "      <td>0.000000</td>\n",
              "      <td>3.0</td>\n",
              "      <td>3.0</td>\n",
              "    </tr>\n",
              "    <tr>\n",
              "      <th>4</th>\n",
              "      <td>1</td>\n",
              "      <td>22.000000</td>\n",
              "      <td>1.780000</td>\n",
              "      <td>89.800000</td>\n",
              "      <td>0</td>\n",
              "      <td>0</td>\n",
              "      <td>2</td>\n",
              "      <td>0</td>\n",
              "      <td>0</td>\n",
              "      <td>2</td>\n",
              "      <td>3</td>\n",
              "      <td>6</td>\n",
              "      <td>2.000000</td>\n",
              "      <td>0.000000</td>\n",
              "      <td>0.000000</td>\n",
              "      <td>1.0</td>\n",
              "      <td>2.0</td>\n",
              "    </tr>\n",
              "    <tr>\n",
              "      <th>...</th>\n",
              "      <td>...</td>\n",
              "      <td>...</td>\n",
              "      <td>...</td>\n",
              "      <td>...</td>\n",
              "      <td>...</td>\n",
              "      <td>...</td>\n",
              "      <td>...</td>\n",
              "      <td>...</td>\n",
              "      <td>...</td>\n",
              "      <td>...</td>\n",
              "      <td>...</td>\n",
              "      <td>...</td>\n",
              "      <td>...</td>\n",
              "      <td>...</td>\n",
              "      <td>...</td>\n",
              "      <td>...</td>\n",
              "      <td>...</td>\n",
              "    </tr>\n",
              "    <tr>\n",
              "      <th>2106</th>\n",
              "      <td>0</td>\n",
              "      <td>20.976842</td>\n",
              "      <td>1.710730</td>\n",
              "      <td>131.408528</td>\n",
              "      <td>1</td>\n",
              "      <td>1</td>\n",
              "      <td>2</td>\n",
              "      <td>0</td>\n",
              "      <td>0</td>\n",
              "      <td>2</td>\n",
              "      <td>3</td>\n",
              "      <td>4</td>\n",
              "      <td>1.728139</td>\n",
              "      <td>1.676269</td>\n",
              "      <td>0.906247</td>\n",
              "      <td>3.0</td>\n",
              "      <td>3.0</td>\n",
              "    </tr>\n",
              "    <tr>\n",
              "      <th>2107</th>\n",
              "      <td>0</td>\n",
              "      <td>21.982942</td>\n",
              "      <td>1.748584</td>\n",
              "      <td>133.742943</td>\n",
              "      <td>1</td>\n",
              "      <td>1</td>\n",
              "      <td>2</td>\n",
              "      <td>0</td>\n",
              "      <td>0</td>\n",
              "      <td>2</td>\n",
              "      <td>3</td>\n",
              "      <td>4</td>\n",
              "      <td>2.005130</td>\n",
              "      <td>1.341390</td>\n",
              "      <td>0.599270</td>\n",
              "      <td>3.0</td>\n",
              "      <td>3.0</td>\n",
              "    </tr>\n",
              "    <tr>\n",
              "      <th>2108</th>\n",
              "      <td>0</td>\n",
              "      <td>22.524036</td>\n",
              "      <td>1.752206</td>\n",
              "      <td>133.689352</td>\n",
              "      <td>1</td>\n",
              "      <td>1</td>\n",
              "      <td>2</td>\n",
              "      <td>0</td>\n",
              "      <td>0</td>\n",
              "      <td>2</td>\n",
              "      <td>3</td>\n",
              "      <td>4</td>\n",
              "      <td>2.054193</td>\n",
              "      <td>1.414209</td>\n",
              "      <td>0.646288</td>\n",
              "      <td>3.0</td>\n",
              "      <td>3.0</td>\n",
              "    </tr>\n",
              "    <tr>\n",
              "      <th>2109</th>\n",
              "      <td>0</td>\n",
              "      <td>24.361936</td>\n",
              "      <td>1.739450</td>\n",
              "      <td>133.346641</td>\n",
              "      <td>1</td>\n",
              "      <td>1</td>\n",
              "      <td>2</td>\n",
              "      <td>0</td>\n",
              "      <td>0</td>\n",
              "      <td>2</td>\n",
              "      <td>3</td>\n",
              "      <td>4</td>\n",
              "      <td>2.852339</td>\n",
              "      <td>1.139107</td>\n",
              "      <td>0.586035</td>\n",
              "      <td>3.0</td>\n",
              "      <td>3.0</td>\n",
              "    </tr>\n",
              "    <tr>\n",
              "      <th>2110</th>\n",
              "      <td>0</td>\n",
              "      <td>23.664709</td>\n",
              "      <td>1.738836</td>\n",
              "      <td>133.472641</td>\n",
              "      <td>1</td>\n",
              "      <td>1</td>\n",
              "      <td>2</td>\n",
              "      <td>0</td>\n",
              "      <td>0</td>\n",
              "      <td>2</td>\n",
              "      <td>3</td>\n",
              "      <td>4</td>\n",
              "      <td>2.863513</td>\n",
              "      <td>1.026452</td>\n",
              "      <td>0.714137</td>\n",
              "      <td>3.0</td>\n",
              "      <td>3.0</td>\n",
              "    </tr>\n",
              "  </tbody>\n",
              "</table>\n",
              "<p>2111 rows × 17 columns</p>\n",
              "</div>\n",
              "      <button class=\"colab-df-convert\" onclick=\"convertToInteractive('df-4849d1b2-d794-4cbc-b50b-1702b01b742f')\"\n",
              "              title=\"Convert this dataframe to an interactive table.\"\n",
              "              style=\"display:none;\">\n",
              "        \n",
              "  <svg xmlns=\"http://www.w3.org/2000/svg\" height=\"24px\"viewBox=\"0 0 24 24\"\n",
              "       width=\"24px\">\n",
              "    <path d=\"M0 0h24v24H0V0z\" fill=\"none\"/>\n",
              "    <path d=\"M18.56 5.44l.94 2.06.94-2.06 2.06-.94-2.06-.94-.94-2.06-.94 2.06-2.06.94zm-11 1L8.5 8.5l.94-2.06 2.06-.94-2.06-.94L8.5 2.5l-.94 2.06-2.06.94zm10 10l.94 2.06.94-2.06 2.06-.94-2.06-.94-.94-2.06-.94 2.06-2.06.94z\"/><path d=\"M17.41 7.96l-1.37-1.37c-.4-.4-.92-.59-1.43-.59-.52 0-1.04.2-1.43.59L10.3 9.45l-7.72 7.72c-.78.78-.78 2.05 0 2.83L4 21.41c.39.39.9.59 1.41.59.51 0 1.02-.2 1.41-.59l7.78-7.78 2.81-2.81c.8-.78.8-2.07 0-2.86zM5.41 20L4 18.59l7.72-7.72 1.47 1.35L5.41 20z\"/>\n",
              "  </svg>\n",
              "      </button>\n",
              "      \n",
              "  <style>\n",
              "    .colab-df-container {\n",
              "      display:flex;\n",
              "      flex-wrap:wrap;\n",
              "      gap: 12px;\n",
              "    }\n",
              "\n",
              "    .colab-df-convert {\n",
              "      background-color: #E8F0FE;\n",
              "      border: none;\n",
              "      border-radius: 50%;\n",
              "      cursor: pointer;\n",
              "      display: none;\n",
              "      fill: #1967D2;\n",
              "      height: 32px;\n",
              "      padding: 0 0 0 0;\n",
              "      width: 32px;\n",
              "    }\n",
              "\n",
              "    .colab-df-convert:hover {\n",
              "      background-color: #E2EBFA;\n",
              "      box-shadow: 0px 1px 2px rgba(60, 64, 67, 0.3), 0px 1px 3px 1px rgba(60, 64, 67, 0.15);\n",
              "      fill: #174EA6;\n",
              "    }\n",
              "\n",
              "    [theme=dark] .colab-df-convert {\n",
              "      background-color: #3B4455;\n",
              "      fill: #D2E3FC;\n",
              "    }\n",
              "\n",
              "    [theme=dark] .colab-df-convert:hover {\n",
              "      background-color: #434B5C;\n",
              "      box-shadow: 0px 1px 3px 1px rgba(0, 0, 0, 0.15);\n",
              "      filter: drop-shadow(0px 1px 2px rgba(0, 0, 0, 0.3));\n",
              "      fill: #FFFFFF;\n",
              "    }\n",
              "  </style>\n",
              "\n",
              "      <script>\n",
              "        const buttonEl =\n",
              "          document.querySelector('#df-4849d1b2-d794-4cbc-b50b-1702b01b742f button.colab-df-convert');\n",
              "        buttonEl.style.display =\n",
              "          google.colab.kernel.accessAllowed ? 'block' : 'none';\n",
              "\n",
              "        async function convertToInteractive(key) {\n",
              "          const element = document.querySelector('#df-4849d1b2-d794-4cbc-b50b-1702b01b742f');\n",
              "          const dataTable =\n",
              "            await google.colab.kernel.invokeFunction('convertToInteractive',\n",
              "                                                     [key], {});\n",
              "          if (!dataTable) return;\n",
              "\n",
              "          const docLinkHtml = 'Like what you see? Visit the ' +\n",
              "            '<a target=\"_blank\" href=https://colab.research.google.com/notebooks/data_table.ipynb>data table notebook</a>'\n",
              "            + ' to learn more about interactive tables.';\n",
              "          element.innerHTML = '';\n",
              "          dataTable['output_type'] = 'display_data';\n",
              "          await google.colab.output.renderOutput(dataTable, element);\n",
              "          const docLink = document.createElement('div');\n",
              "          docLink.innerHTML = docLinkHtml;\n",
              "          element.appendChild(docLink);\n",
              "        }\n",
              "      </script>\n",
              "    </div>\n",
              "  </div>\n",
              "  "
            ]
          },
          "metadata": {},
          "execution_count": 109
        }
      ]
    },
    {
      "cell_type": "markdown",
      "source": [
        "## 相關係數熱圖\n",
        "[plt.figure()參數](https://vimsky.com/zh-tw/examples/usage/matplotlib-pyplot-figure-in-python.html)\n",
        "\n",
        "[seaborn.heatmap()參數](https://blog.csdn.net/ztf312/article/details/102474190)"
      ],
      "metadata": {
        "id": "zAjmgI-5r1WZ"
      }
    },
    {
      "cell_type": "code",
      "source": [
        "plt.figure(figsize=(20,10)) #圖的大小（寬,高）\n",
        "c=df_le.corr()\n",
        "sns.heatmap(c,vmin = -1, vmax = +1, annot=True, cmap='coolwarm') \n",
        "# vmin最小值, vmax最大值, annot 使否顯示數值, mask遮罩, cmap顏色 "
      ],
      "metadata": {
        "colab": {
          "base_uri": "https://localhost:8080/",
          "height": 675
        },
        "id": "hBpQqCD2sK36",
        "outputId": "42dc451e-94b5-4223-9f38-a03a8573ed8c"
      },
      "execution_count": null,
      "outputs": [
        {
          "output_type": "execute_result",
          "data": {
            "text/plain": [
              "<matplotlib.axes._subplots.AxesSubplot at 0x7f0d31cb9f10>"
            ]
          },
          "metadata": {},
          "execution_count": 110
        },
        {
          "output_type": "display_data",
          "data": {
            "text/plain": [
              "<Figure size 1440x720 with 2 Axes>"
            ],
            "image/png": "[encoded data removed]"
          },
          "metadata": {
            "needs_background": "light"
          }
        }
      ]
    },
    {
      "cell_type": "markdown",
      "source": [
        "由於圖形對稱，遮罩上三角"
      ],
      "metadata": {
        "id": "B__7UkFbsRoM"
      }
    },
    {
      "cell_type": "code",
      "source": [
        "plt.figure(figsize=(20,10)) #圖的大小（寬,高）\n",
        "c=df_le.corr()\n",
        "sns.heatmap(c,vmin = -1, vmax = +1, mask=np.triu(c),annot=True, cmap='coolwarm') "
      ],
      "metadata": {
        "colab": {
          "base_uri": "https://localhost:8080/",
          "height": 675
        },
        "id": "pfadNtxAsQ2C",
        "outputId": "147c8ef0-0b0f-49d3-deb2-76d740672a53"
      },
      "execution_count": null,
      "outputs": [
        {
          "output_type": "execute_result",
          "data": {
            "text/plain": [
              "<matplotlib.axes._subplots.AxesSubplot at 0x7f0d3198f310>"
            ]
          },
          "metadata": {},
          "execution_count": 111
        },
        {
          "output_type": "display_data",
          "data": {
            "text/plain": [
              "<Figure size 1440x720 with 2 Axes>"
            ],
            "image/png": "[encoded data removed]"
          },
          "metadata": {
            "needs_background": "light"
          }
        }
      ]
    },
    {
      "cell_type": "markdown",
      "source": [
        "取得各個特徵與體重等級(label)的相關性"
      ],
      "metadata": {
        "id": "jFBU0rn_sKSZ"
      }
    },
    {
      "cell_type": "markdown",
      "source": [
        "# 重新存檔！\n",
        "\n",
        "[pandas的to_csv()使用方法\n",
        "](https://www.itread01.com/content/1546844979.html)"
      ],
      "metadata": {
        "id": "E4feF83gswcT"
      }
    },
    {
      "cell_type": "code",
      "source": [
        "df_le.corr()[\"W_Lv\"]"
      ],
      "metadata": {
        "colab": {
          "base_uri": "https://localhost:8080/"
        },
        "id": "7FA_Vd5Zr7Vy",
        "outputId": "2e25f444-4ad4-4395-d817-30b90deaf432"
      },
      "execution_count": null,
      "outputs": [
        {
          "output_type": "execute_result",
          "data": {
            "text/plain": [
              "Gender          0.024908\n",
              "Age             0.236170\n",
              "Tall            0.038986\n",
              "Weight          0.387643\n",
              "F_H             0.313667\n",
              "H-cal_f         0.044582\n",
              "Two_meal_con    0.327295\n",
              "Smoke          -0.023256\n",
              "Cal_mo         -0.050679\n",
              "alcohol        -0.134632\n",
              "transport      -0.046202\n",
              "W_Lv            1.000000\n",
              "Water           0.108868\n",
              "FAF            -0.129564\n",
              "Tech_time      -0.069448\n",
              "Meal_times     -0.092616\n",
              "Veg             0.018522\n",
              "Name: W_Lv, dtype: float64"
            ]
          },
          "metadata": {},
          "execution_count": 112
        }
      ]
    },
    {
      "cell_type": "code",
      "source": [
        "import os\n",
        "os.getcwd()"
      ],
      "metadata": {
        "colab": {
          "base_uri": "https://localhost:8080/",
          "height": 36
        },
        "id": "bdJ75pckszks",
        "outputId": "449e1073-61fd-430b-b82b-b1d511028143"
      },
      "execution_count": null,
      "outputs": [
        {
          "output_type": "execute_result",
          "data": {
            "text/plain": [
              "'/content'"
            ],
            "application/vnd.google.colaboratory.intrinsic+json": {
              "type": "string"
            }
          },
          "metadata": {},
          "execution_count": 113
        }
      ]
    },
    {
      "cell_type": "code",
      "source": [
        "#df.to_csv(\"/content/drive/MyDrive/obesity/Obesity_analysis.csv\",encoding = \"utf8\")\n",
        "df.to_csv(\"Obesity_analysis.csv\",encoding = \"utf8\")"
      ],
      "metadata": {
        "id": "n8N0W-dGs0F5"
      },
      "execution_count": null,
      "outputs": []
    },
    {
      "cell_type": "markdown",
      "source": [
        "# 資料標準化、切分、訓練、分析"
      ],
      "metadata": {
        "id": "Qm3cu3Cy8PWB"
      }
    },
    {
      "cell_type": "markdown",
      "source": [
        "載入資料"
      ],
      "metadata": {
        "id": "hEh03Petxwx0"
      }
    },
    {
      "cell_type": "code",
      "source": [
        "#from google.colab import drive\n",
        "#drive.mount('/content/drive')"
      ],
      "metadata": {
        "id": "dSZcFfCc8SVV"
      },
      "execution_count": null,
      "outputs": []
    },
    {
      "cell_type": "markdown",
      "source": [
        "\n",
        "> [How to get rid of \"Unnamed: 0\" column in a pandas DataFrame read in from CSV file?](https://stackoverflow.com/questions/36519086/how-to-get-rid-of-unnamed-0-column-in-a-pandas-dataframe-read-in-from-csv-fil)\n",
        "↓↓\n",
        "by addind : index_col=[0]"
      ],
      "metadata": {
        "id": "dNtY9i1V2rxJ"
      }
    },
    {
      "cell_type": "code",
      "source": [
        "#df_le = pd.read_csv(\"/content/drive/MyDrive/obesity/Obesity_analysis.csv\",encoding=\"utf8\", index_col=[0] )\n",
        "df_le = pd.read_csv(\"Obesity_analysis.csv\",encoding = \"utf8\",index_col=[0])\n",
        "df_le.head()"
      ],
      "metadata": {
        "id": "5s1i6pi38W6X",
        "colab": {
          "base_uri": "https://localhost:8080/",
          "height": 206
        },
        "outputId": "c31f210b-98d8-4100-b814-e83f316ef956"
      },
      "execution_count": null,
      "outputs": [
        {
          "output_type": "execute_result",
          "data": {
            "text/plain": [
              "   Gender   Age  Tall  Weight  F_H  H-cal_f  Two_meal_con  Smoke  Cal_mo  \\\n",
              "0       0  21.0  1.62    64.0    1        0             2      0       0   \n",
              "1       0  21.0  1.52    56.0    1        0             2      1       1   \n",
              "2       1  23.0  1.80    77.0    1        0             2      0       0   \n",
              "3       1  27.0  1.80    87.0    0        0             2      0       0   \n",
              "4       1  22.0  1.78    89.8    0        0             2      0       0   \n",
              "\n",
              "   alcohol  transport  W_Lv  Water  FAF  Tech_time  Meal_times  Veg  \n",
              "0        3          3     1    2.0  0.0        1.0         3.0  2.0  \n",
              "1        2          3     1    3.0  3.0        0.0         3.0  3.0  \n",
              "2        1          3     1    2.0  2.0        1.0         3.0  2.0  \n",
              "3        1          4     5    2.0  2.0        0.0         3.0  3.0  \n",
              "4        2          3     6    2.0  0.0        0.0         1.0  2.0  "
            ],
            "text/html": [
              "\n",
              "  <div id=\"df-f0e7db17-cf36-419f-a15c-2dcbe1b80024\">\n",
              "    <div class=\"colab-df-container\">\n",
              "      <div>\n",
              "<style scoped>\n",
              "    .dataframe tbody tr th:only-of-type {\n",
              "        vertical-align: middle;\n",
              "    }\n",
              "\n",
              "    .dataframe tbody tr th {\n",
              "        vertical-align: top;\n",
              "    }\n",
              "\n",
              "    .dataframe thead th {\n",
              "        text-align: right;\n",
              "    }\n",
              "</style>\n",
              "<table border=\"1\" class=\"dataframe\">\n",
              "  <thead>\n",
              "    <tr style=\"text-align: right;\">\n",
              "      <th></th>\n",
              "      <th>Gender</th>\n",
              "      <th>Age</th>\n",
              "      <th>Tall</th>\n",
              "      <th>Weight</th>\n",
              "      <th>F_H</th>\n",
              "      <th>H-cal_f</th>\n",
              "      <th>Two_meal_con</th>\n",
              "      <th>Smoke</th>\n",
              "      <th>Cal_mo</th>\n",
              "      <th>alcohol</th>\n",
              "      <th>transport</th>\n",
              "      <th>W_Lv</th>\n",
              "      <th>Water</th>\n",
              "      <th>FAF</th>\n",
              "      <th>Tech_time</th>\n",
              "      <th>Meal_times</th>\n",
              "      <th>Veg</th>\n",
              "    </tr>\n",
              "  </thead>\n",
              "  <tbody>\n",
              "    <tr>\n",
              "      <th>0</th>\n",
              "      <td>0</td>\n",
              "      <td>21.0</td>\n",
              "      <td>1.62</td>\n",
              "      <td>64.0</td>\n",
              "      <td>1</td>\n",
              "      <td>0</td>\n",
              "      <td>2</td>\n",
              "      <td>0</td>\n",
              "      <td>0</td>\n",
              "      <td>3</td>\n",
              "      <td>3</td>\n",
              "      <td>1</td>\n",
              "      <td>2.0</td>\n",
              "      <td>0.0</td>\n",
              "      <td>1.0</td>\n",
              "      <td>3.0</td>\n",
              "      <td>2.0</td>\n",
              "    </tr>\n",
              "    <tr>\n",
              "      <th>1</th>\n",
              "      <td>0</td>\n",
              "      <td>21.0</td>\n",
              "      <td>1.52</td>\n",
              "      <td>56.0</td>\n",
              "      <td>1</td>\n",
              "      <td>0</td>\n",
              "      <td>2</td>\n",
              "      <td>1</td>\n",
              "      <td>1</td>\n",
              "      <td>2</td>\n",
              "      <td>3</td>\n",
              "      <td>1</td>\n",
              "      <td>3.0</td>\n",
              "      <td>3.0</td>\n",
              "      <td>0.0</td>\n",
              "      <td>3.0</td>\n",
              "      <td>3.0</td>\n",
              "    </tr>\n",
              "    <tr>\n",
              "      <th>2</th>\n",
              "      <td>1</td>\n",
              "      <td>23.0</td>\n",
              "      <td>1.80</td>\n",
              "      <td>77.0</td>\n",
              "      <td>1</td>\n",
              "      <td>0</td>\n",
              "      <td>2</td>\n",
              "      <td>0</td>\n",
              "      <td>0</td>\n",
              "      <td>1</td>\n",
              "      <td>3</td>\n",
              "      <td>1</td>\n",
              "      <td>2.0</td>\n",
              "      <td>2.0</td>\n",
              "      <td>1.0</td>\n",
              "      <td>3.0</td>\n",
              "      <td>2.0</td>\n",
              "    </tr>\n",
              "    <tr>\n",
              "      <th>3</th>\n",
              "      <td>1</td>\n",
              "      <td>27.0</td>\n",
              "      <td>1.80</td>\n",
              "      <td>87.0</td>\n",
              "      <td>0</td>\n",
              "      <td>0</td>\n",
              "      <td>2</td>\n",
              "      <td>0</td>\n",
              "      <td>0</td>\n",
              "      <td>1</td>\n",
              "      <td>4</td>\n",
              "      <td>5</td>\n",
              "      <td>2.0</td>\n",
              "      <td>2.0</td>\n",
              "      <td>0.0</td>\n",
              "      <td>3.0</td>\n",
              "      <td>3.0</td>\n",
              "    </tr>\n",
              "    <tr>\n",
              "      <th>4</th>\n",
              "      <td>1</td>\n",
              "      <td>22.0</td>\n",
              "      <td>1.78</td>\n",
              "      <td>89.8</td>\n",
              "      <td>0</td>\n",
              "      <td>0</td>\n",
              "      <td>2</td>\n",
              "      <td>0</td>\n",
              "      <td>0</td>\n",
              "      <td>2</td>\n",
              "      <td>3</td>\n",
              "      <td>6</td>\n",
              "      <td>2.0</td>\n",
              "      <td>0.0</td>\n",
              "      <td>0.0</td>\n",
              "      <td>1.0</td>\n",
              "      <td>2.0</td>\n",
              "    </tr>\n",
              "  </tbody>\n",
              "</table>\n",
              "</div>\n",
              "      <button class=\"colab-df-convert\" onclick=\"convertToInteractive('df-f0e7db17-cf36-419f-a15c-2dcbe1b80024')\"\n",
              "              title=\"Convert this dataframe to an interactive table.\"\n",
              "              style=\"display:none;\">\n",
              "        \n",
              "  <svg xmlns=\"http://www.w3.org/2000/svg\" height=\"24px\"viewBox=\"0 0 24 24\"\n",
              "       width=\"24px\">\n",
              "    <path d=\"M0 0h24v24H0V0z\" fill=\"none\"/>\n",
              "    <path d=\"M18.56 5.44l.94 2.06.94-2.06 2.06-.94-2.06-.94-.94-2.06-.94 2.06-2.06.94zm-11 1L8.5 8.5l.94-2.06 2.06-.94-2.06-.94L8.5 2.5l-.94 2.06-2.06.94zm10 10l.94 2.06.94-2.06 2.06-.94-2.06-.94-.94-2.06-.94 2.06-2.06.94z\"/><path d=\"M17.41 7.96l-1.37-1.37c-.4-.4-.92-.59-1.43-.59-.52 0-1.04.2-1.43.59L10.3 9.45l-7.72 7.72c-.78.78-.78 2.05 0 2.83L4 21.41c.39.39.9.59 1.41.59.51 0 1.02-.2 1.41-.59l7.78-7.78 2.81-2.81c.8-.78.8-2.07 0-2.86zM5.41 20L4 18.59l7.72-7.72 1.47 1.35L5.41 20z\"/>\n",
              "  </svg>\n",
              "      </button>\n",
              "      \n",
              "  <style>\n",
              "    .colab-df-container {\n",
              "      display:flex;\n",
              "      flex-wrap:wrap;\n",
              "      gap: 12px;\n",
              "    }\n",
              "\n",
              "    .colab-df-convert {\n",
              "      background-color: #E8F0FE;\n",
              "      border: none;\n",
              "      border-radius: 50%;\n",
              "      cursor: pointer;\n",
              "      display: none;\n",
              "      fill: #1967D2;\n",
              "      height: 32px;\n",
              "      padding: 0 0 0 0;\n",
              "      width: 32px;\n",
              "    }\n",
              "\n",
              "    .colab-df-convert:hover {\n",
              "      background-color: #E2EBFA;\n",
              "      box-shadow: 0px 1px 2px rgba(60, 64, 67, 0.3), 0px 1px 3px 1px rgba(60, 64, 67, 0.15);\n",
              "      fill: #174EA6;\n",
              "    }\n",
              "\n",
              "    [theme=dark] .colab-df-convert {\n",
              "      background-color: #3B4455;\n",
              "      fill: #D2E3FC;\n",
              "    }\n",
              "\n",
              "    [theme=dark] .colab-df-convert:hover {\n",
              "      background-color: #434B5C;\n",
              "      box-shadow: 0px 1px 3px 1px rgba(0, 0, 0, 0.15);\n",
              "      filter: drop-shadow(0px 1px 2px rgba(0, 0, 0, 0.3));\n",
              "      fill: #FFFFFF;\n",
              "    }\n",
              "  </style>\n",
              "\n",
              "      <script>\n",
              "        const buttonEl =\n",
              "          document.querySelector('#df-f0e7db17-cf36-419f-a15c-2dcbe1b80024 button.colab-df-convert');\n",
              "        buttonEl.style.display =\n",
              "          google.colab.kernel.accessAllowed ? 'block' : 'none';\n",
              "\n",
              "        async function convertToInteractive(key) {\n",
              "          const element = document.querySelector('#df-f0e7db17-cf36-419f-a15c-2dcbe1b80024');\n",
              "          const dataTable =\n",
              "            await google.colab.kernel.invokeFunction('convertToInteractive',\n",
              "                                                     [key], {});\n",
              "          if (!dataTable) return;\n",
              "\n",
              "          const docLinkHtml = 'Like what you see? Visit the ' +\n",
              "            '<a target=\"_blank\" href=https://colab.research.google.com/notebooks/data_table.ipynb>data table notebook</a>'\n",
              "            + ' to learn more about interactive tables.';\n",
              "          element.innerHTML = '';\n",
              "          dataTable['output_type'] = 'display_data';\n",
              "          await google.colab.output.renderOutput(dataTable, element);\n",
              "          const docLink = document.createElement('div');\n",
              "          docLink.innerHTML = docLinkHtml;\n",
              "          element.appendChild(docLink);\n",
              "        }\n",
              "      </script>\n",
              "    </div>\n",
              "  </div>\n",
              "  "
            ]
          },
          "metadata": {},
          "execution_count": 163
        }
      ]
    },
    {
      "cell_type": "code",
      "source": [
        "x = df_le.drop(columns = [\"W_Lv\"])\n",
        "y =df_le.W_Lv"
      ],
      "metadata": {
        "id": "M-WsrXwN9dJI"
      },
      "execution_count": null,
      "outputs": []
    },
    {
      "cell_type": "markdown",
      "source": [
        "## 標準化\n",
        "\n",
        "preprocessing.scale(X)直接標準化數據X。"
      ],
      "metadata": {
        "id": "vKwKxele9zCL"
      }
    },
    {
      "cell_type": "code",
      "source": [
        "from sklearn import preprocessing\n",
        "x=preprocessing.scale(x)\n",
        "# scaled之後的資料零均值，單位方差  \n",
        "pd.DataFrame(x).head()"
      ],
      "metadata": {
        "id": "dMfQYsry90d5",
        "colab": {
          "base_uri": "https://localhost:8080/",
          "height": 206
        },
        "outputId": "71026e88-74dc-4dc3-cbcd-cb588b8c8f30"
      },
      "execution_count": null,
      "outputs": [
        {
          "output_type": "execute_result",
          "data": {
            "text/plain": [
              "         0         1         2         3         4         5         6   \\\n",
              "0 -1.011914 -0.522124 -0.875589 -0.862558  0.472291 -2.759769  0.300346   \n",
              "1 -1.011914 -0.522124 -1.947599 -1.168077  0.472291 -2.759769  0.300346   \n",
              "2  0.988227 -0.206889  1.054029 -0.366090  0.472291 -2.759769  0.300346   \n",
              "3  0.988227  0.423582  1.054029  0.015808 -2.117337 -2.759769  0.300346   \n",
              "4  0.988227 -0.364507  0.839627  0.122740 -2.117337 -2.759769  0.300346   \n",
              "\n",
              "         7         8         9         10        11        12        13  \\\n",
              "0 -0.145900 -0.218272  1.419172  0.503337 -0.013073 -1.188039  0.561997   \n",
              "1  6.853997  4.581439 -0.521160  0.503337  1.618759  2.339750 -1.080625   \n",
              "2 -0.145900 -0.218272 -2.461491  0.503337 -0.013073  1.163820  0.561997   \n",
              "3 -0.145900 -0.218272 -2.461491  1.296280 -0.013073  1.163820 -1.080625   \n",
              "4 -0.145900 -0.218272 -0.521160  0.503337 -0.013073 -1.188039 -1.080625   \n",
              "\n",
              "         14        15  \n",
              "0  0.404153 -0.785019  \n",
              "1  0.404153  1.088342  \n",
              "2  0.404153 -0.785019  \n",
              "3  0.404153  1.088342  \n",
              "4 -2.167023 -0.785019  "
            ],
            "text/html": [
              "\n",
              "  <div id=\"df-0b858a0a-ad16-4647-ac25-47451b09728a\">\n",
              "    <div class=\"colab-df-container\">\n",
              "      <div>\n",
              "<style scoped>\n",
              "    .dataframe tbody tr th:only-of-type {\n",
              "        vertical-align: middle;\n",
              "    }\n",
              "\n",
              "    .dataframe tbody tr th {\n",
              "        vertical-align: top;\n",
              "    }\n",
              "\n",
              "    .dataframe thead th {\n",
              "        text-align: right;\n",
              "    }\n",
              "</style>\n",
              "<table border=\"1\" class=\"dataframe\">\n",
              "  <thead>\n",
              "    <tr style=\"text-align: right;\">\n",
              "      <th></th>\n",
              "      <th>0</th>\n",
              "      <th>1</th>\n",
              "      <th>2</th>\n",
              "      <th>3</th>\n",
              "      <th>4</th>\n",
              "      <th>5</th>\n",
              "      <th>6</th>\n",
              "      <th>7</th>\n",
              "      <th>8</th>\n",
              "      <th>9</th>\n",
              "      <th>10</th>\n",
              "      <th>11</th>\n",
              "      <th>12</th>\n",
              "      <th>13</th>\n",
              "      <th>14</th>\n",
              "      <th>15</th>\n",
              "    </tr>\n",
              "  </thead>\n",
              "  <tbody>\n",
              "    <tr>\n",
              "      <th>0</th>\n",
              "      <td>-1.011914</td>\n",
              "      <td>-0.522124</td>\n",
              "      <td>-0.875589</td>\n",
              "      <td>-0.862558</td>\n",
              "      <td>0.472291</td>\n",
              "      <td>-2.759769</td>\n",
              "      <td>0.300346</td>\n",
              "      <td>-0.145900</td>\n",
              "      <td>-0.218272</td>\n",
              "      <td>1.419172</td>\n",
              "      <td>0.503337</td>\n",
              "      <td>-0.013073</td>\n",
              "      <td>-1.188039</td>\n",
              "      <td>0.561997</td>\n",
              "      <td>0.404153</td>\n",
              "      <td>-0.785019</td>\n",
              "    </tr>\n",
              "    <tr>\n",
              "      <th>1</th>\n",
              "      <td>-1.011914</td>\n",
              "      <td>-0.522124</td>\n",
              "      <td>-1.947599</td>\n",
              "      <td>-1.168077</td>\n",
              "      <td>0.472291</td>\n",
              "      <td>-2.759769</td>\n",
              "      <td>0.300346</td>\n",
              "      <td>6.853997</td>\n",
              "      <td>4.581439</td>\n",
              "      <td>-0.521160</td>\n",
              "      <td>0.503337</td>\n",
              "      <td>1.618759</td>\n",
              "      <td>2.339750</td>\n",
              "      <td>-1.080625</td>\n",
              "      <td>0.404153</td>\n",
              "      <td>1.088342</td>\n",
              "    </tr>\n",
              "    <tr>\n",
              "      <th>2</th>\n",
              "      <td>0.988227</td>\n",
              "      <td>-0.206889</td>\n",
              "      <td>1.054029</td>\n",
              "      <td>-0.366090</td>\n",
              "      <td>0.472291</td>\n",
              "      <td>-2.759769</td>\n",
              "      <td>0.300346</td>\n",
              "      <td>-0.145900</td>\n",
              "      <td>-0.218272</td>\n",
              "      <td>-2.461491</td>\n",
              "      <td>0.503337</td>\n",
              "      <td>-0.013073</td>\n",
              "      <td>1.163820</td>\n",
              "      <td>0.561997</td>\n",
              "      <td>0.404153</td>\n",
              "      <td>-0.785019</td>\n",
              "    </tr>\n",
              "    <tr>\n",
              "      <th>3</th>\n",
              "      <td>0.988227</td>\n",
              "      <td>0.423582</td>\n",
              "      <td>1.054029</td>\n",
              "      <td>0.015808</td>\n",
              "      <td>-2.117337</td>\n",
              "      <td>-2.759769</td>\n",
              "      <td>0.300346</td>\n",
              "      <td>-0.145900</td>\n",
              "      <td>-0.218272</td>\n",
              "      <td>-2.461491</td>\n",
              "      <td>1.296280</td>\n",
              "      <td>-0.013073</td>\n",
              "      <td>1.163820</td>\n",
              "      <td>-1.080625</td>\n",
              "      <td>0.404153</td>\n",
              "      <td>1.088342</td>\n",
              "    </tr>\n",
              "    <tr>\n",
              "      <th>4</th>\n",
              "      <td>0.988227</td>\n",
              "      <td>-0.364507</td>\n",
              "      <td>0.839627</td>\n",
              "      <td>0.122740</td>\n",
              "      <td>-2.117337</td>\n",
              "      <td>-2.759769</td>\n",
              "      <td>0.300346</td>\n",
              "      <td>-0.145900</td>\n",
              "      <td>-0.218272</td>\n",
              "      <td>-0.521160</td>\n",
              "      <td>0.503337</td>\n",
              "      <td>-0.013073</td>\n",
              "      <td>-1.188039</td>\n",
              "      <td>-1.080625</td>\n",
              "      <td>-2.167023</td>\n",
              "      <td>-0.785019</td>\n",
              "    </tr>\n",
              "  </tbody>\n",
              "</table>\n",
              "</div>\n",
              "      <button class=\"colab-df-convert\" onclick=\"convertToInteractive('df-0b858a0a-ad16-4647-ac25-47451b09728a')\"\n",
              "              title=\"Convert this dataframe to an interactive table.\"\n",
              "              style=\"display:none;\">\n",
              "        \n",
              "  <svg xmlns=\"http://www.w3.org/2000/svg\" height=\"24px\"viewBox=\"0 0 24 24\"\n",
              "       width=\"24px\">\n",
              "    <path d=\"M0 0h24v24H0V0z\" fill=\"none\"/>\n",
              "    <path d=\"M18.56 5.44l.94 2.06.94-2.06 2.06-.94-2.06-.94-.94-2.06-.94 2.06-2.06.94zm-11 1L8.5 8.5l.94-2.06 2.06-.94-2.06-.94L8.5 2.5l-.94 2.06-2.06.94zm10 10l.94 2.06.94-2.06 2.06-.94-2.06-.94-.94-2.06-.94 2.06-2.06.94z\"/><path d=\"M17.41 7.96l-1.37-1.37c-.4-.4-.92-.59-1.43-.59-.52 0-1.04.2-1.43.59L10.3 9.45l-7.72 7.72c-.78.78-.78 2.05 0 2.83L4 21.41c.39.39.9.59 1.41.59.51 0 1.02-.2 1.41-.59l7.78-7.78 2.81-2.81c.8-.78.8-2.07 0-2.86zM5.41 20L4 18.59l7.72-7.72 1.47 1.35L5.41 20z\"/>\n",
              "  </svg>\n",
              "      </button>\n",
              "      \n",
              "  <style>\n",
              "    .colab-df-container {\n",
              "      display:flex;\n",
              "      flex-wrap:wrap;\n",
              "      gap: 12px;\n",
              "    }\n",
              "\n",
              "    .colab-df-convert {\n",
              "      background-color: #E8F0FE;\n",
              "      border: none;\n",
              "      border-radius: 50%;\n",
              "      cursor: pointer;\n",
              "      display: none;\n",
              "      fill: #1967D2;\n",
              "      height: 32px;\n",
              "      padding: 0 0 0 0;\n",
              "      width: 32px;\n",
              "    }\n",
              "\n",
              "    .colab-df-convert:hover {\n",
              "      background-color: #E2EBFA;\n",
              "      box-shadow: 0px 1px 2px rgba(60, 64, 67, 0.3), 0px 1px 3px 1px rgba(60, 64, 67, 0.15);\n",
              "      fill: #174EA6;\n",
              "    }\n",
              "\n",
              "    [theme=dark] .colab-df-convert {\n",
              "      background-color: #3B4455;\n",
              "      fill: #D2E3FC;\n",
              "    }\n",
              "\n",
              "    [theme=dark] .colab-df-convert:hover {\n",
              "      background-color: #434B5C;\n",
              "      box-shadow: 0px 1px 3px 1px rgba(0, 0, 0, 0.15);\n",
              "      filter: drop-shadow(0px 1px 2px rgba(0, 0, 0, 0.3));\n",
              "      fill: #FFFFFF;\n",
              "    }\n",
              "  </style>\n",
              "\n",
              "      <script>\n",
              "        const buttonEl =\n",
              "          document.querySelector('#df-0b858a0a-ad16-4647-ac25-47451b09728a button.colab-df-convert');\n",
              "        buttonEl.style.display =\n",
              "          google.colab.kernel.accessAllowed ? 'block' : 'none';\n",
              "\n",
              "        async function convertToInteractive(key) {\n",
              "          const element = document.querySelector('#df-0b858a0a-ad16-4647-ac25-47451b09728a');\n",
              "          const dataTable =\n",
              "            await google.colab.kernel.invokeFunction('convertToInteractive',\n",
              "                                                     [key], {});\n",
              "          if (!dataTable) return;\n",
              "\n",
              "          const docLinkHtml = 'Like what you see? Visit the ' +\n",
              "            '<a target=\"_blank\" href=https://colab.research.google.com/notebooks/data_table.ipynb>data table notebook</a>'\n",
              "            + ' to learn more about interactive tables.';\n",
              "          element.innerHTML = '';\n",
              "          dataTable['output_type'] = 'display_data';\n",
              "          await google.colab.output.renderOutput(dataTable, element);\n",
              "          const docLink = document.createElement('div');\n",
              "          docLink.innerHTML = docLinkHtml;\n",
              "          element.appendChild(docLink);\n",
              "        }\n",
              "      </script>\n",
              "    </div>\n",
              "  </div>\n",
              "  "
            ]
          },
          "metadata": {},
          "execution_count": 164
        }
      ]
    },
    {
      "cell_type": "markdown",
      "source": [
        "## 切分訓練集與測試集\n",
        "\n"
      ],
      "metadata": {
        "id": "uPgljD42_cpu"
      }
    },
    {
      "cell_type": "code",
      "source": [
        "from sklearn.model_selection import train_test_split\n",
        "x_train, x_test, y_train, y_test = train_test_split(x, y, test_size = 0.2) #, random_state = 48"
      ],
      "metadata": {
        "id": "sfOfGsAu_dhx"
      },
      "execution_count": null,
      "outputs": []
    },
    {
      "cell_type": "markdown",
      "source": [
        "## 模型訓練"
      ],
      "metadata": {
        "id": "iyQrq8curfEM"
      }
    },
    {
      "cell_type": "markdown",
      "source": [
        "### SVC(Support Vector Classifier)"
      ],
      "metadata": {
        "id": "nIQz1ifN_GXM"
      }
    },
    {
      "cell_type": "markdown",
      "source": [
        "4種Kernal準確率比較"
      ],
      "metadata": {
        "id": "XlL7NWfzSbTC"
      }
    },
    {
      "cell_type": "code",
      "source": [
        "from sklearn.svm import SVC\n",
        "svc_scores = []\n",
        "kernels = ['linear', 'poly', 'rbf', 'sigmoid']\n",
        "for i in range(len(kernels)):\n",
        "    svc_classifier = SVC(kernel = kernels[i])\n",
        "    svc_classifier.fit(x_train, y_train)\n",
        "    svc_scores.append(svc_classifier.score(x_test, y_test))"
      ],
      "metadata": {
        "id": "H9Eva8HQSeRP"
      },
      "execution_count": null,
      "outputs": []
    },
    {
      "cell_type": "code",
      "source": [
        "colors = np.linspace(0, 1, len(kernels))\n",
        "plt.bar(kernels, svc_scores, color = colors)\n",
        "for i in range(len(kernels)):\n",
        "    plt.text(i, svc_scores[i], svc_scores[i])\n",
        "plt.xlabel('Kernels')\n",
        "plt.ylabel('Scores')\n",
        "plt.title('Support Vector Classifier scores for different kernels')"
      ],
      "metadata": {
        "colab": {
          "base_uri": "https://localhost:8080/",
          "height": 313
        },
        "id": "uHTQXtirSjMO",
        "outputId": "a404b3d2-7d59-4325-824c-892969f514f4"
      },
      "execution_count": null,
      "outputs": [
        {
          "output_type": "execute_result",
          "data": {
            "text/plain": [
              "Text(0.5, 1.0, 'Support Vector Classifier scores for different kernels')"
            ]
          },
          "metadata": {},
          "execution_count": 121
        },
        {
          "output_type": "display_data",
          "data": {
            "text/plain": [
              "<Figure size 432x288 with 1 Axes>"
            ],
            "image/png": "[encoded data removed]"
          },
          "metadata": {
            "needs_background": "light"
          }
        }
      ]
    },
    {
      "cell_type": "code",
      "source": [
        "print(\"The score for Support Vector Classifier is {}% with {} kernel.\".format(svc_scores[0]*100, 'linear'))"
      ],
      "metadata": {
        "colab": {
          "base_uri": "https://localhost:8080/"
        },
        "id": "SdjhKhGmUZ_L",
        "outputId": "5882ecd0-2112-4c5c-d02b-4fd839698bb6"
      },
      "execution_count": null,
      "outputs": [
        {
          "output_type": "stream",
          "name": "stdout",
          "text": [
            "The score for Support Vector Classifier is 94.79905437352247% with linear kernel.\n"
          ]
        }
      ]
    },
    {
      "cell_type": "markdown",
      "source": [
        "由上圖可知kernel=linear時準確率最高"
      ],
      "metadata": {
        "id": "aCjtAcZI-BEQ"
      }
    },
    {
      "cell_type": "code",
      "source": [
        "clf = SVC(kernel='linear')\n",
        "clf.fit(x_train,y_train)"
      ],
      "metadata": {
        "colab": {
          "base_uri": "https://localhost:8080/"
        },
        "id": "OaqthRsr-CeG",
        "outputId": "f678d9df-cc07-4d6e-e490-12c1e7a2466a"
      },
      "execution_count": null,
      "outputs": [
        {
          "output_type": "execute_result",
          "data": {
            "text/plain": [
              "SVC(kernel='linear')"
            ]
          },
          "metadata": {},
          "execution_count": 123
        }
      ]
    },
    {
      "cell_type": "markdown",
      "source": [
        "訓練結果"
      ],
      "metadata": {
        "id": "N7UhpMDh-8mJ"
      }
    },
    {
      "cell_type": "code",
      "source": [
        "clf.score(x_test,y_test)"
      ],
      "metadata": {
        "colab": {
          "base_uri": "https://localhost:8080/"
        },
        "id": "fAJW7rRH-aHo",
        "outputId": "4bbfe972-7ff0-4115-813c-c107d63947f7"
      },
      "execution_count": null,
      "outputs": [
        {
          "output_type": "execute_result",
          "data": {
            "text/plain": [
              "0.9479905437352246"
            ]
          },
          "metadata": {},
          "execution_count": 124
        }
      ]
    },
    {
      "cell_type": "code",
      "source": [
        "y_hat_train = clf.predict(x_train)\n",
        "y_hat_test = clf.predict(x_test)"
      ],
      "metadata": {
        "id": "3w1NwGrJ-v0_"
      },
      "execution_count": null,
      "outputs": []
    },
    {
      "cell_type": "code",
      "source": [
        "from sklearn.metrics import mean_squared_error, r2_score\n",
        "print('Performance on Training Data')\n",
        "print('  + mean squared error: %.2f' % mean_squared_error(y_train, y_hat_train))\n",
        "print('  + coefficient of determination: %.2f' % r2_score(y_train, y_hat_train))\n",
        "print('Performance on Testing Data')\n",
        "print('  + mean squared error: %.2f' % mean_squared_error(y_test, y_hat_test))\n",
        "print('  + coefficient of determination: %.2f' % r2_score(y_test, y_hat_test))"
      ],
      "metadata": {
        "colab": {
          "base_uri": "https://localhost:8080/"
        },
        "id": "KFsqtMdS-r2m",
        "outputId": "6580f450-ae71-4889-9275-ecba34ddad40"
      },
      "execution_count": null,
      "outputs": [
        {
          "output_type": "stream",
          "name": "stdout",
          "text": [
            "Performance on Training Data\n",
            "  + mean squared error: 0.19\n",
            "  + coefficient of determination: 0.95\n",
            "Performance on Testing Data\n",
            "  + mean squared error: 0.25\n",
            "  + coefficient of determination: 0.94\n"
          ]
        }
      ]
    },
    {
      "cell_type": "markdown",
      "source": [
        "### 線性回歸LinearRegression"
      ],
      "metadata": {
        "id": "y9y5t2MG_JqD"
      }
    },
    {
      "cell_type": "code",
      "source": [
        "from sklearn.linear_model import LinearRegression\n",
        "lm = LinearRegression(fit_intercept = True, normalize = True) \n",
        "lm.fit(x_train, y_train)"
      ],
      "metadata": {
        "colab": {
          "base_uri": "https://localhost:8080/"
        },
        "id": "jRbC2QEY_QVM",
        "outputId": "83a0dcd3-37a3-4336-d4be-f5e54704a438"
      },
      "execution_count": null,
      "outputs": [
        {
          "output_type": "stream",
          "name": "stderr",
          "text": [
            "/usr/local/lib/python3.7/dist-packages/sklearn/linear_model/_base.py:145: FutureWarning: 'normalize' was deprecated in version 1.0 and will be removed in 1.2.\n",
            "If you wish to scale the data, use Pipeline with a StandardScaler in a preprocessing stage. To reproduce the previous behavior:\n",
            "\n",
            "from sklearn.pipeline import make_pipeline\n",
            "\n",
            "model = make_pipeline(StandardScaler(with_mean=False), LinearRegression())\n",
            "\n",
            "If you wish to pass a sample_weight parameter, you need to pass it as a fit parameter to each step of the pipeline as follows:\n",
            "\n",
            "kwargs = {s[0] + '__sample_weight': sample_weight for s in model.steps}\n",
            "model.fit(X, y, **kwargs)\n",
            "\n",
            "\n",
            "  FutureWarning,\n"
          ]
        },
        {
          "output_type": "execute_result",
          "data": {
            "text/plain": [
              "LinearRegression(normalize=True)"
            ]
          },
          "metadata": {},
          "execution_count": 167
        }
      ]
    },
    {
      "cell_type": "markdown",
      "source": [
        "result"
      ],
      "metadata": {
        "id": "F5Z0NPm9_xMU"
      }
    },
    {
      "cell_type": "code",
      "source": [
        "lm.score(x_test,y_test)"
      ],
      "metadata": {
        "colab": {
          "base_uri": "https://localhost:8080/"
        },
        "id": "EyHlPfMt_yqg",
        "outputId": "d6a2f890-5f51-4a62-ea73-5dc906341e39"
      },
      "execution_count": null,
      "outputs": [
        {
          "output_type": "execute_result",
          "data": {
            "text/plain": [
              "0.29049406743202755"
            ]
          },
          "metadata": {},
          "execution_count": 168
        }
      ]
    },
    {
      "cell_type": "code",
      "source": [
        "y_hat_train = lm.predict(x_train)\n",
        "y_hat_test = lm.predict(x_test)"
      ],
      "metadata": {
        "id": "TyPnH4xnBDuH"
      },
      "execution_count": null,
      "outputs": []
    },
    {
      "cell_type": "code",
      "source": [
        "from sklearn.metrics import mean_squared_error, r2_score\n",
        "print('Performance on Training Data')\n",
        "print('  + mean squared error: %.2f' % mean_squared_error(y_train, y_hat_train))\n",
        "print('  + coefficient of determination: %.2f' % r2_score(y_train, y_hat_train))\n",
        "print('Performance on Testing Data')\n",
        "print('  + mean squared error: %.2f' % mean_squared_error(y_test, y_hat_test))\n",
        "print('  + coefficient of determination: %.2f' % r2_score(y_test, y_hat_test))"
      ],
      "metadata": {
        "colab": {
          "base_uri": "https://localhost:8080/"
        },
        "id": "iLe6NbYOA_-1",
        "outputId": "d905767f-90fb-41f7-b7a4-c446885d6700"
      },
      "execution_count": null,
      "outputs": [
        {
          "output_type": "stream",
          "name": "stdout",
          "text": [
            "Performance on Training Data\n",
            "  + mean squared error: 2.68\n",
            "  + coefficient of determination: 0.29\n",
            "Performance on Testing Data\n",
            "  + mean squared error: 2.74\n",
            "  + coefficient of determination: 0.29\n"
          ]
        }
      ]
    },
    {
      "cell_type": "markdown",
      "source": [
        "係數"
      ],
      "metadata": {
        "id": "45B4UbD9ACa5"
      }
    },
    {
      "cell_type": "code",
      "source": [
        "lm.coef_,"
      ],
      "metadata": {
        "colab": {
          "base_uri": "https://localhost:8080/"
        },
        "id": "a6s75onf__g-",
        "outputId": "1b7396fa-f182-4809-a381-e327eca0fbd6"
      },
      "execution_count": null,
      "outputs": [
        {
          "output_type": "execute_result",
          "data": {
            "text/plain": [
              "(array([-0.37198627,  0.04297115,  0.32252878, -0.32083565,  0.88937189,\n",
              "         0.30829575, -0.13116966,  0.41688132, -0.09192587,  0.06681226,\n",
              "        -0.14702698,  0.12183341,  0.06147864, -0.09657483,  0.0174443 ,\n",
              "        -0.16911233, -0.05518624]),)"
            ]
          },
          "metadata": {},
          "execution_count": 129
        }
      ]
    },
    {
      "cell_type": "code",
      "source": [
        "plt.figure(figsize=(15,9), dpi = 60) \n",
        "ax = pd.Series(lm.coef_).plot.bar(rot = 80)"
      ],
      "metadata": {
        "colab": {
          "base_uri": "https://localhost:8080/",
          "height": 454
        },
        "id": "LX4-tVR_AUrk",
        "outputId": "43ed0627-82c7-43e5-9b2e-7f878f6df02b"
      },
      "execution_count": null,
      "outputs": [
        {
          "output_type": "display_data",
          "data": {
            "text/plain": [
              "<Figure size 900x540 with 1 Axes>"
            ],
            "image/png": "[encoded data removed]"
          },
          "metadata": {
            "needs_background": "light"
          }
        }
      ]
    },
    {
      "cell_type": "markdown",
      "source": [
        "### Logistic回歸\n"
      ],
      "metadata": {
        "id": "y6BG15JGAn9M"
      }
    },
    {
      "cell_type": "code",
      "source": [
        "from sklearn.linear_model import LogisticRegression\n",
        "lr = LogisticRegression()\n",
        "lr.fit(x_train, y_train)"
      ],
      "metadata": {
        "colab": {
          "base_uri": "https://localhost:8080/"
        },
        "id": "uds5fQHRAsDI",
        "outputId": "ca245f06-6d06-467b-fde2-e61f47d5dd77"
      },
      "execution_count": null,
      "outputs": [
        {
          "output_type": "stream",
          "name": "stderr",
          "text": [
            "/usr/local/lib/python3.7/dist-packages/sklearn/linear_model/_logistic.py:818: ConvergenceWarning: lbfgs failed to converge (status=1):\n",
            "STOP: TOTAL NO. of ITERATIONS REACHED LIMIT.\n",
            "\n",
            "Increase the number of iterations (max_iter) or scale the data as shown in:\n",
            "    https://scikit-learn.org/stable/modules/preprocessing.html\n",
            "Please also refer to the documentation for alternative solver options:\n",
            "    https://scikit-learn.org/stable/modules/linear_model.html#logistic-regression\n",
            "  extra_warning_msg=_LOGISTIC_SOLVER_CONVERGENCE_MSG,\n"
          ]
        },
        {
          "output_type": "execute_result",
          "data": {
            "text/plain": [
              "LogisticRegression()"
            ]
          },
          "metadata": {},
          "execution_count": 131
        }
      ]
    },
    {
      "cell_type": "markdown",
      "source": [
        "result"
      ],
      "metadata": {
        "id": "OZ-SUk0pA3pq"
      }
    },
    {
      "cell_type": "code",
      "source": [
        "lr.score(x_test,y_test)"
      ],
      "metadata": {
        "colab": {
          "base_uri": "https://localhost:8080/"
        },
        "id": "nUzCdX8FA5jQ",
        "outputId": "8fdf2ea8-69f7-4285-f6ea-86eaed1b3842"
      },
      "execution_count": null,
      "outputs": [
        {
          "output_type": "execute_result",
          "data": {
            "text/plain": [
              "0.8912529550827423"
            ]
          },
          "metadata": {},
          "execution_count": 132
        }
      ]
    },
    {
      "cell_type": "code",
      "source": [
        "y_hat_train = lr.predict(x_train)\n",
        "y_hat_test = lr.predict(x_test)"
      ],
      "metadata": {
        "id": "LFz8fQxRBAxa"
      },
      "execution_count": null,
      "outputs": []
    },
    {
      "cell_type": "code",
      "source": [
        "from sklearn.metrics import mean_squared_error, r2_score\n",
        "print('Performance on Training Data')\n",
        "print('  + mean squared error: %.2f' % mean_squared_error(y_train, y_hat_train))\n",
        "print('  + coefficient of determination: %.2f' % r2_score(y_train, y_hat_train))\n",
        "print('Performance on Testing Data')\n",
        "print('  + mean squared error: %.2f' % mean_squared_error(y_test, y_hat_test))\n",
        "print('  + coefficient of determination: %.2f' % r2_score(y_test, y_hat_test))"
      ],
      "metadata": {
        "colab": {
          "base_uri": "https://localhost:8080/"
        },
        "id": "OrLgLAdDBE6x",
        "outputId": "904867a4-9ca4-4952-ac06-5daae38f19e4"
      },
      "execution_count": null,
      "outputs": [
        {
          "output_type": "stream",
          "name": "stdout",
          "text": [
            "Performance on Training Data\n",
            "  + mean squared error: 0.75\n",
            "  + coefficient of determination: 0.80\n",
            "Performance on Testing Data\n",
            "  + mean squared error: 0.94\n",
            "  + coefficient of determination: 0.76\n"
          ]
        }
      ]
    },
    {
      "cell_type": "markdown",
      "source": [
        "預測"
      ],
      "metadata": {
        "id": "uDkO7k8FBNV7"
      }
    },
    {
      "cell_type": "code",
      "source": [
        "y_pred=lr.predict(x_test)\n",
        "y_pred"
      ],
      "metadata": {
        "colab": {
          "base_uri": "https://localhost:8080/"
        },
        "id": "lIf-qDUdBL2h",
        "outputId": "ca83ff16-5425-43e9-e8b1-1d820c5b28c9"
      },
      "execution_count": null,
      "outputs": [
        {
          "output_type": "execute_result",
          "data": {
            "text/plain": [
              "array([4, 6, 6, 2, 5, 2, 6, 3, 4, 0, 5, 4, 3, 3, 3, 4, 2, 0, 4, 4, 6, 6,\n",
              "       1, 0, 6, 4, 1, 1, 6, 3, 6, 3, 2, 3, 4, 3, 3, 1, 1, 5, 0, 5, 1, 4,\n",
              "       3, 0, 4, 3, 0, 0, 6, 6, 0, 4, 5, 6, 2, 1, 1, 5, 6, 6, 5, 4, 5, 1,\n",
              "       0, 6, 2, 2, 4, 6, 5, 0, 0, 2, 0, 2, 0, 1, 3, 3, 0, 0, 6, 4, 4, 1,\n",
              "       4, 1, 2, 5, 2, 0, 4, 2, 4, 1, 0, 5, 4, 0, 2, 5, 6, 5, 6, 6, 2, 3,\n",
              "       1, 1, 3, 3, 4, 4, 6, 1, 2, 6, 1, 1, 4, 5, 1, 3, 4, 2, 4, 2, 1, 6,\n",
              "       0, 1, 5, 4, 4, 3, 5, 0, 4, 2, 5, 6, 2, 3, 4, 2, 1, 2, 3, 3, 3, 6,\n",
              "       1, 3, 1, 0, 1, 5, 4, 5, 5, 1, 3, 0, 0, 4, 2, 4, 4, 3, 5, 6, 5, 2,\n",
              "       6, 6, 0, 1, 5, 6, 6, 3, 1, 2, 2, 4, 1, 1, 6, 1, 5, 2, 5, 4, 1, 6,\n",
              "       1, 5, 1, 2, 1, 1, 3, 3, 1, 4, 1, 4, 1, 2, 5, 6, 2, 6, 5, 5, 2, 4,\n",
              "       1, 6, 2, 4, 1, 4, 6, 5, 1, 4, 0, 5, 6, 3, 1, 4, 6, 0, 6, 0, 2, 5,\n",
              "       2, 3, 2, 0, 3, 6, 4, 2, 0, 2, 2, 2, 1, 6, 1, 3, 3, 5, 5, 2, 5, 2,\n",
              "       4, 0, 6, 4, 6, 0, 4, 3, 6, 0, 6, 2, 0, 3, 3, 2, 1, 1, 3, 3, 4, 2,\n",
              "       0, 0, 0, 0, 6, 0, 1, 4, 3, 4, 5, 0, 3, 1, 1, 5, 2, 6, 5, 2, 6, 1,\n",
              "       0, 2, 3, 0, 1, 0, 5, 2, 3, 6, 4, 4, 2, 5, 4, 5, 5, 2, 0, 5, 6, 3,\n",
              "       2, 2, 2, 5, 5, 3, 2, 3, 2, 3, 4, 6, 2, 2, 3, 3, 0, 1, 1, 1, 3, 4,\n",
              "       0, 1, 2, 3, 1, 0, 6, 5, 2, 5, 3, 4, 1, 1, 1, 2, 3, 1, 3, 6, 2, 3,\n",
              "       2, 0, 3, 3, 1, 0, 2, 3, 1, 6, 6, 1, 1, 6, 2, 6, 3, 2, 3, 4, 3, 4,\n",
              "       2, 5, 2, 0, 1, 2, 1, 6, 4, 0, 0, 2, 6, 3, 4, 0, 0, 0, 5, 4, 6, 5,\n",
              "       2, 2, 3, 6, 3])"
            ]
          },
          "metadata": {},
          "execution_count": 135
        }
      ]
    },
    {
      "cell_type": "markdown",
      "source": [
        "混淆矩陣"
      ],
      "metadata": {
        "id": "g2Sv0lLOBSH0"
      }
    },
    {
      "cell_type": "code",
      "source": [
        "from sklearn.metrics import confusion_matrix\n",
        "cm=confusion_matrix(y_test,y_pred)"
      ],
      "metadata": {
        "id": "ZqIaGyr8BTwV"
      },
      "execution_count": null,
      "outputs": []
    },
    {
      "cell_type": "code",
      "source": [
        "class_names=[] # name  of classes\n",
        "fig, ax = plt.subplots()\n",
        "tick_marks = np.arange(len(class_names))\n",
        "plt.xticks(tick_marks, class_names)\n",
        "plt.yticks(tick_marks, class_names)\n",
        "# create heatmap\n",
        "sns.heatmap(pd.DataFrame(cm), annot=True, cmap=\"YlGnBu\" ,fmt='g')\n",
        "ax.xaxis.set_label_position(\"top\")\n",
        "plt.tight_layout()\n",
        "plt.title('Confusion matrix', y=1.1)\n",
        "plt.ylabel('Actual label')\n",
        "plt.xlabel('Predicted label')"
      ],
      "metadata": {
        "colab": {
          "base_uri": "https://localhost:8080/",
          "height": 343
        },
        "id": "HGzlg1qBBWUN",
        "outputId": "f4e4b24f-000f-4101-c083-d56dd931f4f4"
      },
      "execution_count": null,
      "outputs": [
        {
          "output_type": "execute_result",
          "data": {
            "text/plain": [
              "Text(0.5, 257.44, 'Predicted label')"
            ]
          },
          "metadata": {},
          "execution_count": 137
        },
        {
          "output_type": "display_data",
          "data": {
            "text/plain": [
              "<Figure size 432x288 with 2 Axes>"
            ],
            "image/png": "[encoded data removed]"
          },
          "metadata": {
            "needs_background": "light"
          }
        }
      ]
    },
    {
      "cell_type": "code",
      "source": [
        "error = 0\n",
        "for i, v in enumerate(y_pred):\n",
        "    if v!= y_test.values[i]:\n",
        "        error+=1\n",
        "print(error)"
      ],
      "metadata": {
        "colab": {
          "base_uri": "https://localhost:8080/"
        },
        "id": "WPgPd1x4BZYU",
        "outputId": "9597ec97-ad52-419b-f56e-83cb6789e930"
      },
      "execution_count": null,
      "outputs": [
        {
          "output_type": "stream",
          "name": "stdout",
          "text": [
            "46\n"
          ]
        }
      ]
    },
    {
      "cell_type": "markdown",
      "source": [
        "### K-means"
      ],
      "metadata": {
        "id": "z4_WekiOBo3R"
      }
    },
    {
      "cell_type": "code",
      "source": [
        "from sklearn.cluster import KMeans\n",
        "\n",
        "kmeansModel = KMeans(n_clusters=3, random_state=46)\n",
        "clusters_pred = kmeansModel.fit_predict(x)"
      ],
      "metadata": {
        "id": "gDyoIw4GC0EC"
      },
      "execution_count": null,
      "outputs": []
    },
    {
      "cell_type": "code",
      "source": [
        "kmeansModel.score(x_test,y_test) #!準確率負數"
      ],
      "metadata": {
        "colab": {
          "base_uri": "https://localhost:8080/"
        },
        "id": "OsX4qK0iEeYa",
        "outputId": "b9a7316b-1369-4328-e201-2f38f90f7580"
      },
      "execution_count": null,
      "outputs": [
        {
          "output_type": "execute_result",
          "data": {
            "text/plain": [
              "-5570.181716215198"
            ]
          },
          "metadata": {},
          "execution_count": 140
        }
      ]
    },
    {
      "cell_type": "markdown",
      "source": [
        "Inertia 計算所有點到每群集中心距離的平方和。"
      ],
      "metadata": {
        "id": "fpyNhDCQDPnF"
      }
    },
    {
      "cell_type": "code",
      "source": [
        "kmeansModel.inertia_"
      ],
      "metadata": {
        "colab": {
          "base_uri": "https://localhost:8080/"
        },
        "id": "JDhwnxrMC30t",
        "outputId": "df0168f8-cdfb-4f9a-c1a5-e4787fa1f060"
      },
      "execution_count": null,
      "outputs": [
        {
          "output_type": "execute_result",
          "data": {
            "text/plain": [
              "28653.16344476919"
            ]
          },
          "metadata": {},
          "execution_count": 141
        }
      ]
    },
    {
      "cell_type": "markdown",
      "source": [
        "群集中心"
      ],
      "metadata": {
        "id": "WH9nrUeFDHjX"
      }
    },
    {
      "cell_type": "code",
      "source": [
        "kmeansModel.cluster_centers_"
      ],
      "metadata": {
        "colab": {
          "base_uri": "https://localhost:8080/"
        },
        "id": "brS1nSylDHUZ",
        "outputId": "4be15491-7bde-4200-b472-872bc6e2ffb7"
      },
      "execution_count": null,
      "outputs": [
        {
          "output_type": "execute_result",
          "data": {
            "text/plain": [
              "array([[-0.95456937, -0.28193549, -0.55943295, -0.53064251, -0.99470914,\n",
              "        -0.8773399 , -0.5993545 , -0.51928507,  0.06869511,  0.41234694,\n",
              "         0.13317112,  0.4130454 , -0.20046967,  0.10819686,  0.15111733,\n",
              "        -0.12191013, -0.16710088],\n",
              "       [-0.01386342,  0.3123171 ,  1.29879402,  0.18225582,  0.04004176,\n",
              "         0.31155576,  0.16138519,  0.15802693,  0.0150169 , -0.15206912,\n",
              "         0.0230253 , -1.82080705, -0.08424686, -0.02179332, -0.33954186,\n",
              "         0.07742608, -0.12731837],\n",
              "       [ 0.66590374,  0.05778796, -0.18341456,  0.28678995,  0.66998748,\n",
              "         0.46967818,  0.34344629,  0.28957473, -0.05407518, -0.21827203,\n",
              "        -0.10215764,  0.51373862,  0.17554905, -0.06522175,  0.04458662,\n",
              "         0.05028062,  0.17139011]])"
            ]
          },
          "metadata": {},
          "execution_count": 142
        }
      ]
    },
    {
      "cell_type": "markdown",
      "source": [
        "> 如何決定K??\n",
        "\n",
        "\n",
        "當K值越來越大，inertia 會隨之越來越小。正常情況下不會取K最大的，一般是取 elbow point 附近作為 K，即 inertia 迅速下降轉為平緩的那個點。"
      ],
      "metadata": {
        "id": "HAR-rII8Darl"
      }
    },
    {
      "cell_type": "code",
      "source": [
        "# k = 1~9 做9次kmeans, 並將每次結果的inertia收集在一個list裡\n",
        "kmeans_list = [KMeans(n_clusters=k, random_state=46).fit(x)\n",
        "                for k in range(1, 10)]\n",
        "inertias = [model.inertia_ for model in kmeans_list]\n",
        "inertias"
      ],
      "metadata": {
        "colab": {
          "base_uri": "https://localhost:8080/"
        },
        "id": "AqJ5ca8lDq6e",
        "outputId": "5dd0bf4b-059e-4701-c5e1-393d434956cb"
      },
      "execution_count": null,
      "outputs": [
        {
          "output_type": "execute_result",
          "data": {
            "text/plain": [
              "[35887.0,\n",
              " 31269.992726428336,\n",
              " 28653.16344476919,\n",
              " 26611.802558424137,\n",
              " 24649.93722454318,\n",
              " 23409.110507625857,\n",
              " 21553.68461234455,\n",
              " 20571.489793283385,\n",
              " 19642.433531079238]"
            ]
          },
          "metadata": {},
          "execution_count": 143
        }
      ]
    },
    {
      "cell_type": "code",
      "source": [
        "plt.figure(figsize=(16, 10))\n",
        "plt.plot(range(1, 10), inertias, \"bo-\")\n",
        "plt.xlabel(\"$k$\", fontsize=14)\n",
        "plt.ylabel(\"Inertia\", fontsize=14)\n",
        "plt.show()"
      ],
      "metadata": {
        "colab": {
          "base_uri": "https://localhost:8080/",
          "height": 611
        },
        "id": "iydeIYtkDzZF",
        "outputId": "f1bc3652-0585-46b5-dd34-93f1506c22a1"
      },
      "execution_count": null,
      "outputs": [
        {
          "output_type": "display_data",
          "data": {
            "text/plain": [
              "<Figure size 1152x720 with 1 Axes>"
            ],
            "image/png": "[encoded data removed]"
          },
          "metadata": {
            "needs_background": "light"
          }
        }
      ]
    },
    {
      "cell_type": "markdown",
      "source": [
        "另外一個方法是用 silhouette scores 去評估，其分數越大代表分群效果越好。"
      ],
      "metadata": {
        "id": "DJyF8zYGEVyX"
      }
    },
    {
      "cell_type": "code",
      "source": [
        "from sklearn.metrics import silhouette_score\n",
        "silhouette_scores = [silhouette_score(x, model.labels_)\n",
        "                     for model in kmeans_list[1:]]\n",
        "silhouette_scores"
      ],
      "metadata": {
        "colab": {
          "base_uri": "https://localhost:8080/"
        },
        "id": "EiN-diOBEAZG",
        "outputId": "8519e552-65a1-49ad-864a-ab7d116c3844"
      },
      "execution_count": null,
      "outputs": [
        {
          "output_type": "execute_result",
          "data": {
            "text/plain": [
              "[0.1810379580670198,\n",
              " 0.13915238139975006,\n",
              " 0.11449861476214102,\n",
              " 0.13191775626091454,\n",
              " 0.14679840072412298,\n",
              " 0.15838518222776357,\n",
              " 0.16816588157618612,\n",
              " 0.1615381429371902]"
            ]
          },
          "metadata": {},
          "execution_count": 145
        }
      ]
    },
    {
      "cell_type": "markdown",
      "source": [
        "### 隨機森林"
      ],
      "metadata": {
        "id": "3GwMOXFwJFb-"
      }
    },
    {
      "cell_type": "code",
      "source": [
        "from sklearn.ensemble import RandomForestRegressor\n",
        "\n",
        "# 建立RandomForestRegressor模型\n",
        "randomForestModel = RandomForestRegressor(n_estimators=100, criterion = 'mse')\n",
        "# 使用訓練資料訓練模型\n",
        "randomForestModel.fit(x, y)"
      ],
      "metadata": {
        "colab": {
          "base_uri": "https://localhost:8080/"
        },
        "id": "06DDh0MtJHC_",
        "outputId": "c1711061-ba61-4f8f-f98a-59e3f32372df"
      },
      "execution_count": null,
      "outputs": [
        {
          "output_type": "stream",
          "name": "stderr",
          "text": [
            "/usr/local/lib/python3.7/dist-packages/sklearn/ensemble/_forest.py:400: FutureWarning: Criterion 'mse' was deprecated in v1.0 and will be removed in version 1.2. Use `criterion='squared_error'` which is equivalent.\n",
            "  FutureWarning,\n"
          ]
        },
        {
          "output_type": "execute_result",
          "data": {
            "text/plain": [
              "RandomForestRegressor(criterion='mse')"
            ]
          },
          "metadata": {},
          "execution_count": 146
        }
      ]
    },
    {
      "cell_type": "code",
      "source": [
        "predicted=randomForestModel.predict(x)\n",
        "predicted"
      ],
      "metadata": {
        "colab": {
          "base_uri": "https://localhost:8080/"
        },
        "id": "VxBOMfkUJJ7q",
        "outputId": "221a4d4f-b37d-45c5-c568-47522e182b54"
      },
      "execution_count": null,
      "outputs": [
        {
          "output_type": "execute_result",
          "data": {
            "text/plain": [
              "array([2.14, 0.98, 1.73, ..., 4.  , 4.  , 4.  ])"
            ]
          },
          "metadata": {},
          "execution_count": 147
        }
      ]
    },
    {
      "cell_type": "markdown",
      "source": [
        "result"
      ],
      "metadata": {
        "id": "ap8ead7CJQqH"
      }
    },
    {
      "cell_type": "code",
      "source": [
        "randomForestModel.score(x_test,y_test)"
      ],
      "metadata": {
        "colab": {
          "base_uri": "https://localhost:8080/"
        },
        "id": "LrMz1GooJP-3",
        "outputId": "f2b5078e-5956-471d-bb24-58006a0590c1"
      },
      "execution_count": null,
      "outputs": [
        {
          "output_type": "execute_result",
          "data": {
            "text/plain": [
              "0.9937355819415449"
            ]
          },
          "metadata": {},
          "execution_count": 148
        }
      ]
    },
    {
      "cell_type": "code",
      "source": [
        "y_hat_train = lr.predict(x_train)\n",
        "y_hat_test = lr.predict(x_test)"
      ],
      "metadata": {
        "id": "HgHRMHL8KNyL"
      },
      "execution_count": null,
      "outputs": []
    },
    {
      "cell_type": "code",
      "source": [
        "from sklearn.metrics import mean_squared_error, r2_score\n",
        "print('Performance on Training Data')\n",
        "print('  + mean squared error: %.2f' % mean_squared_error(y_train, y_hat_train))\n",
        "print('  + coefficient of determination: %.2f' % r2_score(y_train, y_hat_train))\n",
        "print('Performance on Testing Data')\n",
        "print('  + mean squared error: %.2f' % mean_squared_error(y_test, y_hat_test))\n",
        "print('  + coefficient of determination: %.2f' % r2_score(y_test, y_hat_test))"
      ],
      "metadata": {
        "colab": {
          "base_uri": "https://localhost:8080/"
        },
        "id": "Y1VBtZdAKLdF",
        "outputId": "191e5987-41f4-4879-91ff-0fcdf8ed7887"
      },
      "execution_count": null,
      "outputs": [
        {
          "output_type": "stream",
          "name": "stdout",
          "text": [
            "Performance on Training Data\n",
            "  + mean squared error: 0.75\n",
            "  + coefficient of determination: 0.80\n",
            "Performance on Testing Data\n",
            "  + mean squared error: 0.94\n",
            "  + coefficient of determination: 0.76\n"
          ]
        }
      ]
    },
    {
      "cell_type": "markdown",
      "source": [
        "### KNN"
      ],
      "metadata": {
        "id": "AX8TuZy_Qgrq"
      }
    },
    {
      "cell_type": "code",
      "source": [
        "from sklearn.neighbors import KNeighborsClassifier\n",
        "\n",
        "# 建立 KNN 模型\n",
        "knnModel = KNeighborsClassifier(n_neighbors=3)\n",
        "# 使用訓練資料訓練模型\n",
        "knnModel.fit(x_train,y_train)\n"
      ],
      "metadata": {
        "colab": {
          "base_uri": "https://localhost:8080/"
        },
        "id": "kUCbb7ZDQiO6",
        "outputId": "eec8b3ee-5bb4-4dc1-9e2d-51600ef04fdf"
      },
      "execution_count": null,
      "outputs": [
        {
          "output_type": "execute_result",
          "data": {
            "text/plain": [
              "KNeighborsClassifier(n_neighbors=3)"
            ]
          },
          "metadata": {},
          "execution_count": 151
        }
      ]
    },
    {
      "cell_type": "code",
      "source": [
        "# 使用訓練資料預測分類\n",
        "predicted = knnModel.predict(x_train)"
      ],
      "metadata": {
        "id": "eNpAIbX8QqHx"
      },
      "execution_count": null,
      "outputs": []
    },
    {
      "cell_type": "markdown",
      "source": [
        "result"
      ],
      "metadata": {
        "id": "dMPEvnIfQzbo"
      }
    },
    {
      "cell_type": "code",
      "source": [
        "print('訓練集: ',knnModel.score(x_train,y_train))\n",
        "print('測試集: ',knnModel.score(x_test,y_test))"
      ],
      "metadata": {
        "colab": {
          "base_uri": "https://localhost:8080/"
        },
        "id": "72GZJTeTQy16",
        "outputId": "69ca1184-60d8-489a-9bc1-208ca8bb4ced"
      },
      "execution_count": null,
      "outputs": [
        {
          "output_type": "stream",
          "name": "stdout",
          "text": [
            "訓練集:  0.9152843601895735\n",
            "測試集:  0.8297872340425532\n"
          ]
        }
      ]
    },
    {
      "cell_type": "markdown",
      "source": [
        "最好的K??"
      ],
      "metadata": {
        "id": "PIaiO4AaR1BE"
      }
    },
    {
      "cell_type": "code",
      "source": [
        "knn_scores = []\n",
        "for k in range(1,21):\n",
        "    knn_classifier = KNeighborsClassifier(n_neighbors = k)\n",
        "    knn_classifier.fit(x_train, y_train)\n",
        "    knn_scores.append(knn_classifier.score(x_test, y_test))"
      ],
      "metadata": {
        "id": "uZIJ3AHPR2cs"
      },
      "execution_count": null,
      "outputs": []
    },
    {
      "cell_type": "code",
      "source": [
        "plt.plot([k for k in range(1, 21)], knn_scores, color = 'red')\n",
        "for i in range(1,21):\n",
        "    plt.text(i, knn_scores[i-1], (i, knn_scores[i-1]))\n",
        "plt.xticks([i for i in range(1, 21)])\n",
        "plt.xlabel('Number of Neighbors (K)')\n",
        "plt.ylabel('Scores')\n",
        "plt.title('K Neighbors Classifier scores for different K values')"
      ],
      "metadata": {
        "colab": {
          "base_uri": "https://localhost:8080/",
          "height": 313
        },
        "id": "As0fbA_5R9LL",
        "outputId": "ac9c7f75-0e35-4df8-bf2d-47a58d6f566d"
      },
      "execution_count": null,
      "outputs": [
        {
          "output_type": "execute_result",
          "data": {
            "text/plain": [
              "Text(0.5, 1.0, 'K Neighbors Classifier scores for different K values')"
            ]
          },
          "metadata": {},
          "execution_count": 155
        },
        {
          "output_type": "display_data",
          "data": {
            "text/plain": [
              "<Figure size 432x288 with 1 Axes>"
            ],
            "image/png": "[encoded data removed]"
          },
          "metadata": {
            "needs_background": "light"
          }
        }
      ]
    },
    {
      "cell_type": "markdown",
      "source": [
        "## 不同模型準確率比較"
      ],
      "metadata": {
        "id": "yfCQf7KFLflv"
      }
    },
    {
      "cell_type": "code",
      "source": [
        "clf_acc=clf.score(x_test,y_test)\n",
        "lm_acc=lm.score(x_test,y_test)\n",
        "lr_acc=lr.score(x_test,y_test)\n",
        "k_acc=kmeansModel.score(x_test,y_test)\n",
        "rf_acc=randomForestModel.score(x_test,y_test)\n",
        "knn_acc=knnModel.score(x_test,y_test)"
      ],
      "metadata": {
        "id": "vv00nUyxML1X"
      },
      "execution_count": null,
      "outputs": []
    },
    {
      "cell_type": "code",
      "source": [
        "pd.DataFrame([clf_acc,lm_acc,lr_acc,rf_acc,knn_acc],index=['SVC', 'LinearRegression', 'Logistic','Random forest','KNN'])"
      ],
      "metadata": {
        "colab": {
          "base_uri": "https://localhost:8080/",
          "height": 206
        },
        "id": "_Pj5iVoZM0cx",
        "outputId": "cc2d60ec-8a21-4d71-8cc1-6aa40dea3f6c"
      },
      "execution_count": null,
      "outputs": [
        {
          "output_type": "execute_result",
          "data": {
            "text/plain": [
              "                         0\n",
              "SVC               0.947991\n",
              "LinearRegression  0.290494\n",
              "Logistic          0.891253\n",
              "Random forest     0.993736\n",
              "KNN               0.829787"
            ],
            "text/html": [
              "\n",
              "  <div id=\"df-88d92774-9346-4545-a7de-94543c80ade5\">\n",
              "    <div class=\"colab-df-container\">\n",
              "      <div>\n",
              "<style scoped>\n",
              "    .dataframe tbody tr th:only-of-type {\n",
              "        vertical-align: middle;\n",
              "    }\n",
              "\n",
              "    .dataframe tbody tr th {\n",
              "        vertical-align: top;\n",
              "    }\n",
              "\n",
              "    .dataframe thead th {\n",
              "        text-align: right;\n",
              "    }\n",
              "</style>\n",
              "<table border=\"1\" class=\"dataframe\">\n",
              "  <thead>\n",
              "    <tr style=\"text-align: right;\">\n",
              "      <th></th>\n",
              "      <th>0</th>\n",
              "    </tr>\n",
              "  </thead>\n",
              "  <tbody>\n",
              "    <tr>\n",
              "      <th>SVC</th>\n",
              "      <td>0.947991</td>\n",
              "    </tr>\n",
              "    <tr>\n",
              "      <th>LinearRegression</th>\n",
              "      <td>0.290494</td>\n",
              "    </tr>\n",
              "    <tr>\n",
              "      <th>Logistic</th>\n",
              "      <td>0.891253</td>\n",
              "    </tr>\n",
              "    <tr>\n",
              "      <th>Random forest</th>\n",
              "      <td>0.993736</td>\n",
              "    </tr>\n",
              "    <tr>\n",
              "      <th>KNN</th>\n",
              "      <td>0.829787</td>\n",
              "    </tr>\n",
              "  </tbody>\n",
              "</table>\n",
              "</div>\n",
              "      <button class=\"colab-df-convert\" onclick=\"convertToInteractive('df-88d92774-9346-4545-a7de-94543c80ade5')\"\n",
              "              title=\"Convert this dataframe to an interactive table.\"\n",
              "              style=\"display:none;\">\n",
              "        \n",
              "  <svg xmlns=\"http://www.w3.org/2000/svg\" height=\"24px\"viewBox=\"0 0 24 24\"\n",
              "       width=\"24px\">\n",
              "    <path d=\"M0 0h24v24H0V0z\" fill=\"none\"/>\n",
              "    <path d=\"M18.56 5.44l.94 2.06.94-2.06 2.06-.94-2.06-.94-.94-2.06-.94 2.06-2.06.94zm-11 1L8.5 8.5l.94-2.06 2.06-.94-2.06-.94L8.5 2.5l-.94 2.06-2.06.94zm10 10l.94 2.06.94-2.06 2.06-.94-2.06-.94-.94-2.06-.94 2.06-2.06.94z\"/><path d=\"M17.41 7.96l-1.37-1.37c-.4-.4-.92-.59-1.43-.59-.52 0-1.04.2-1.43.59L10.3 9.45l-7.72 7.72c-.78.78-.78 2.05 0 2.83L4 21.41c.39.39.9.59 1.41.59.51 0 1.02-.2 1.41-.59l7.78-7.78 2.81-2.81c.8-.78.8-2.07 0-2.86zM5.41 20L4 18.59l7.72-7.72 1.47 1.35L5.41 20z\"/>\n",
              "  </svg>\n",
              "      </button>\n",
              "      \n",
              "  <style>\n",
              "    .colab-df-container {\n",
              "      display:flex;\n",
              "      flex-wrap:wrap;\n",
              "      gap: 12px;\n",
              "    }\n",
              "\n",
              "    .colab-df-convert {\n",
              "      background-color: #E8F0FE;\n",
              "      border: none;\n",
              "      border-radius: 50%;\n",
              "      cursor: pointer;\n",
              "      display: none;\n",
              "      fill: #1967D2;\n",
              "      height: 32px;\n",
              "      padding: 0 0 0 0;\n",
              "      width: 32px;\n",
              "    }\n",
              "\n",
              "    .colab-df-convert:hover {\n",
              "      background-color: #E2EBFA;\n",
              "      box-shadow: 0px 1px 2px rgba(60, 64, 67, 0.3), 0px 1px 3px 1px rgba(60, 64, 67, 0.15);\n",
              "      fill: #174EA6;\n",
              "    }\n",
              "\n",
              "    [theme=dark] .colab-df-convert {\n",
              "      background-color: #3B4455;\n",
              "      fill: #D2E3FC;\n",
              "    }\n",
              "\n",
              "    [theme=dark] .colab-df-convert:hover {\n",
              "      background-color: #434B5C;\n",
              "      box-shadow: 0px 1px 3px 1px rgba(0, 0, 0, 0.15);\n",
              "      filter: drop-shadow(0px 1px 2px rgba(0, 0, 0, 0.3));\n",
              "      fill: #FFFFFF;\n",
              "    }\n",
              "  </style>\n",
              "\n",
              "      <script>\n",
              "        const buttonEl =\n",
              "          document.querySelector('#df-88d92774-9346-4545-a7de-94543c80ade5 button.colab-df-convert');\n",
              "        buttonEl.style.display =\n",
              "          google.colab.kernel.accessAllowed ? 'block' : 'none';\n",
              "\n",
              "        async function convertToInteractive(key) {\n",
              "          const element = document.querySelector('#df-88d92774-9346-4545-a7de-94543c80ade5');\n",
              "          const dataTable =\n",
              "            await google.colab.kernel.invokeFunction('convertToInteractive',\n",
              "                                                     [key], {});\n",
              "          if (!dataTable) return;\n",
              "\n",
              "          const docLinkHtml = 'Like what you see? Visit the ' +\n",
              "            '<a target=\"_blank\" href=https://colab.research.google.com/notebooks/data_table.ipynb>data table notebook</a>'\n",
              "            + ' to learn more about interactive tables.';\n",
              "          element.innerHTML = '';\n",
              "          dataTable['output_type'] = 'display_data';\n",
              "          await google.colab.output.renderOutput(dataTable, element);\n",
              "          const docLink = document.createElement('div');\n",
              "          docLink.innerHTML = docLinkHtml;\n",
              "          element.appendChild(docLink);\n",
              "        }\n",
              "      </script>\n",
              "    </div>\n",
              "  </div>\n",
              "  "
            ]
          },
          "metadata": {},
          "execution_count": 176
        }
      ]
    },
    {
      "cell_type": "code",
      "source": [
        "acc = pd.DataFrame({'lab':['SVC', 'LinearRegression', 'Logistic','Random forest','KNN'], 'val':[clf_acc,lm_acc,lr_acc,rf_acc,knn_acc]})\n",
        "ax = acc.plot.bar(x='lab', y='val', rot=0)\n",
        "plt.title('Comparison of testing accuracy of each model')\n",
        "ax"
      ],
      "metadata": {
        "colab": {
          "base_uri": "https://localhost:8080/",
          "height": 313
        },
        "id": "9cUAQgabLhca",
        "outputId": "62aa0f4c-5002-4df0-ea8a-9e3b12f347c4"
      },
      "execution_count": null,
      "outputs": [
        {
          "output_type": "execute_result",
          "data": {
            "text/plain": [
              "<matplotlib.axes._subplots.AxesSubplot at 0x7f0d314360d0>"
            ]
          },
          "metadata": {},
          "execution_count": 157
        },
        {
          "output_type": "display_data",
          "data": {
            "text/plain": [
              "<Figure size 432x288 with 1 Axes>"
            ],
            "image/png": "[encoded data removed]"
          },
          "metadata": {
            "needs_background": "light"
          }
        }
      ]
    },
    {
      "cell_type": "markdown",
      "source": [
        "# Reference\n",
        "*   [使用Panda進行數據處理](https://yanwei-liu.medium.com/python-pandas%E4%BD%BF%E7%94%A8%E7%AD%86%E8%A8%98-a4682e254d90)\n",
        "\n",
        "+ [Heart-Disease-Prediction](https://github.com/kb22/Heart-Disease-Prediction/blob/master/Heart%20Disease%20Prediction.ipynb)\n",
        "\n"
      ],
      "metadata": {
        "id": "GKFfzhIfTMGh"
      }
    }
  ]
}